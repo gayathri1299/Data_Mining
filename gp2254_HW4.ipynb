{
  "nbformat": 4,
  "nbformat_minor": 0,
  "metadata": {
    "colab": {
      "name": "gp2254_HW4.ipynb",
      "provenance": [],
      "collapsed_sections": [
        "vFA1BhS481fZ",
        "iVfQCmmi9mtu"
      ]
    },
    "kernelspec": {
      "name": "python3",
      "display_name": "Python 3"
    },
    "language_info": {
      "name": "python"
    }
  },
  "cells": [
    {
      "cell_type": "markdown",
      "source": [
        "# Homework 4: K means and PCA"
      ],
      "metadata": {
        "id": "ZI48k7dxr0JM"
      }
    },
    {
      "cell_type": "markdown",
      "source": [
        "## Setup"
      ],
      "metadata": {
        "id": "Sj_UohOusJxO"
      }
    },
    {
      "cell_type": "code",
      "source": [
        "import pandas as pd\n",
        "import numpy as np\n",
        "import matplotlib.pyplot as plt\n",
        "%matplotlib inline\n"
      ],
      "metadata": {
        "id": "cPMHTQvGr-v1"
      },
      "execution_count": 278,
      "outputs": []
    },
    {
      "cell_type": "markdown",
      "source": [
        "## Data Preprocessing"
      ],
      "metadata": {
        "id": "yFjm5cF-smh5"
      }
    },
    {
      "cell_type": "markdown",
      "source": [
        "In this Colab, rather than downloading a file from Google Drive, we will load a famous machine learning dataset, the [Breast Cancer Wisconsin dataset](https://scikit-learn.org/stable/modules/generated/sklearn.datasets.load_breast_cancer.html), using the ```scikit-learn``` datasets loader."
      ],
      "metadata": {
        "id": "bw_3RIzisvQ6"
      }
    },
    {
      "cell_type": "code",
      "source": [
        "from sklearn.datasets import load_breast_cancer\n",
        "from sklearn.cluster import KMeans\n",
        "from sklearn.metrics import silhouette_samples, silhouette_score"
      ],
      "metadata": {
        "id": "VEK0yhWQsk7Q"
      },
      "execution_count": 279,
      "outputs": []
    },
    {
      "cell_type": "code",
      "source": [
        "#Shape of data (X) and target (Y) values\n",
        "\n",
        "breast_cancer = load_breast_cancer()\n",
        "print(breast_cancer.target.shape)\n",
        "print(breast_cancer.data.shape)\n",
        "print(breast_cancer.feature_names)"
      ],
      "metadata": {
        "colab": {
          "base_uri": "https://localhost:8080/"
        },
        "id": "uW6cuteStt-G",
        "outputId": "d18448cb-887b-4a6f-b532-22ea4beee6d7"
      },
      "execution_count": 280,
      "outputs": [
        {
          "output_type": "stream",
          "name": "stdout",
          "text": [
            "(569,)\n",
            "(569, 30)\n",
            "['mean radius' 'mean texture' 'mean perimeter' 'mean area'\n",
            " 'mean smoothness' 'mean compactness' 'mean concavity'\n",
            " 'mean concave points' 'mean symmetry' 'mean fractal dimension'\n",
            " 'radius error' 'texture error' 'perimeter error' 'area error'\n",
            " 'smoothness error' 'compactness error' 'concavity error'\n",
            " 'concave points error' 'symmetry error' 'fractal dimension error'\n",
            " 'worst radius' 'worst texture' 'worst perimeter' 'worst area'\n",
            " 'worst smoothness' 'worst compactness' 'worst concavity'\n",
            " 'worst concave points' 'worst symmetry' 'worst fractal dimension']\n"
          ]
        }
      ]
    },
    {
      "cell_type": "markdown",
      "source": [
        "For convenience, given that the dataset is small, we first construct a Pandas dataframe and a Numpy array:\n",
        "*   ```features```, a dataframe of Dense vectors, containing all the original features in the dataset;\n",
        "*   ```labels```, a series of binary labels indicating if the corresponding set of features belongs to a subject with breast cancer, or not.\n",
        "\n"
      ],
      "metadata": {
        "id": "GfpFpXPmvrDD"
      }
    },
    {
      "cell_type": "code",
      "source": [
        "features = pd.DataFrame(breast_cancer.data, columns=breast_cancer.feature_names)\n",
        "features.head(5)"
      ],
      "metadata": {
        "colab": {
          "base_uri": "https://localhost:8080/",
          "height": 334
        },
        "id": "6ug-clj1t1Kc",
        "outputId": "15b5a44d-485a-46c9-803a-8f1b83fafcd5"
      },
      "execution_count": 281,
      "outputs": [
        {
          "output_type": "execute_result",
          "data": {
            "text/plain": [
              "   mean radius  mean texture  mean perimeter  mean area  mean smoothness  \\\n",
              "0        17.99         10.38          122.80     1001.0          0.11840   \n",
              "1        20.57         17.77          132.90     1326.0          0.08474   \n",
              "2        19.69         21.25          130.00     1203.0          0.10960   \n",
              "3        11.42         20.38           77.58      386.1          0.14250   \n",
              "4        20.29         14.34          135.10     1297.0          0.10030   \n",
              "\n",
              "   mean compactness  mean concavity  mean concave points  mean symmetry  \\\n",
              "0           0.27760          0.3001              0.14710         0.2419   \n",
              "1           0.07864          0.0869              0.07017         0.1812   \n",
              "2           0.15990          0.1974              0.12790         0.2069   \n",
              "3           0.28390          0.2414              0.10520         0.2597   \n",
              "4           0.13280          0.1980              0.10430         0.1809   \n",
              "\n",
              "   mean fractal dimension  ...  worst radius  worst texture  worst perimeter  \\\n",
              "0                 0.07871  ...         25.38          17.33           184.60   \n",
              "1                 0.05667  ...         24.99          23.41           158.80   \n",
              "2                 0.05999  ...         23.57          25.53           152.50   \n",
              "3                 0.09744  ...         14.91          26.50            98.87   \n",
              "4                 0.05883  ...         22.54          16.67           152.20   \n",
              "\n",
              "   worst area  worst smoothness  worst compactness  worst concavity  \\\n",
              "0      2019.0            0.1622             0.6656           0.7119   \n",
              "1      1956.0            0.1238             0.1866           0.2416   \n",
              "2      1709.0            0.1444             0.4245           0.4504   \n",
              "3       567.7            0.2098             0.8663           0.6869   \n",
              "4      1575.0            0.1374             0.2050           0.4000   \n",
              "\n",
              "   worst concave points  worst symmetry  worst fractal dimension  \n",
              "0                0.2654          0.4601                  0.11890  \n",
              "1                0.1860          0.2750                  0.08902  \n",
              "2                0.2430          0.3613                  0.08758  \n",
              "3                0.2575          0.6638                  0.17300  \n",
              "4                0.1625          0.2364                  0.07678  \n",
              "\n",
              "[5 rows x 30 columns]"
            ],
            "text/html": [
              "\n",
              "  <div id=\"df-ec20e8e6-6680-4e56-b994-b56227f6a504\">\n",
              "    <div class=\"colab-df-container\">\n",
              "      <div>\n",
              "<style scoped>\n",
              "    .dataframe tbody tr th:only-of-type {\n",
              "        vertical-align: middle;\n",
              "    }\n",
              "\n",
              "    .dataframe tbody tr th {\n",
              "        vertical-align: top;\n",
              "    }\n",
              "\n",
              "    .dataframe thead th {\n",
              "        text-align: right;\n",
              "    }\n",
              "</style>\n",
              "<table border=\"1\" class=\"dataframe\">\n",
              "  <thead>\n",
              "    <tr style=\"text-align: right;\">\n",
              "      <th></th>\n",
              "      <th>mean radius</th>\n",
              "      <th>mean texture</th>\n",
              "      <th>mean perimeter</th>\n",
              "      <th>mean area</th>\n",
              "      <th>mean smoothness</th>\n",
              "      <th>mean compactness</th>\n",
              "      <th>mean concavity</th>\n",
              "      <th>mean concave points</th>\n",
              "      <th>mean symmetry</th>\n",
              "      <th>mean fractal dimension</th>\n",
              "      <th>...</th>\n",
              "      <th>worst radius</th>\n",
              "      <th>worst texture</th>\n",
              "      <th>worst perimeter</th>\n",
              "      <th>worst area</th>\n",
              "      <th>worst smoothness</th>\n",
              "      <th>worst compactness</th>\n",
              "      <th>worst concavity</th>\n",
              "      <th>worst concave points</th>\n",
              "      <th>worst symmetry</th>\n",
              "      <th>worst fractal dimension</th>\n",
              "    </tr>\n",
              "  </thead>\n",
              "  <tbody>\n",
              "    <tr>\n",
              "      <th>0</th>\n",
              "      <td>17.99</td>\n",
              "      <td>10.38</td>\n",
              "      <td>122.80</td>\n",
              "      <td>1001.0</td>\n",
              "      <td>0.11840</td>\n",
              "      <td>0.27760</td>\n",
              "      <td>0.3001</td>\n",
              "      <td>0.14710</td>\n",
              "      <td>0.2419</td>\n",
              "      <td>0.07871</td>\n",
              "      <td>...</td>\n",
              "      <td>25.38</td>\n",
              "      <td>17.33</td>\n",
              "      <td>184.60</td>\n",
              "      <td>2019.0</td>\n",
              "      <td>0.1622</td>\n",
              "      <td>0.6656</td>\n",
              "      <td>0.7119</td>\n",
              "      <td>0.2654</td>\n",
              "      <td>0.4601</td>\n",
              "      <td>0.11890</td>\n",
              "    </tr>\n",
              "    <tr>\n",
              "      <th>1</th>\n",
              "      <td>20.57</td>\n",
              "      <td>17.77</td>\n",
              "      <td>132.90</td>\n",
              "      <td>1326.0</td>\n",
              "      <td>0.08474</td>\n",
              "      <td>0.07864</td>\n",
              "      <td>0.0869</td>\n",
              "      <td>0.07017</td>\n",
              "      <td>0.1812</td>\n",
              "      <td>0.05667</td>\n",
              "      <td>...</td>\n",
              "      <td>24.99</td>\n",
              "      <td>23.41</td>\n",
              "      <td>158.80</td>\n",
              "      <td>1956.0</td>\n",
              "      <td>0.1238</td>\n",
              "      <td>0.1866</td>\n",
              "      <td>0.2416</td>\n",
              "      <td>0.1860</td>\n",
              "      <td>0.2750</td>\n",
              "      <td>0.08902</td>\n",
              "    </tr>\n",
              "    <tr>\n",
              "      <th>2</th>\n",
              "      <td>19.69</td>\n",
              "      <td>21.25</td>\n",
              "      <td>130.00</td>\n",
              "      <td>1203.0</td>\n",
              "      <td>0.10960</td>\n",
              "      <td>0.15990</td>\n",
              "      <td>0.1974</td>\n",
              "      <td>0.12790</td>\n",
              "      <td>0.2069</td>\n",
              "      <td>0.05999</td>\n",
              "      <td>...</td>\n",
              "      <td>23.57</td>\n",
              "      <td>25.53</td>\n",
              "      <td>152.50</td>\n",
              "      <td>1709.0</td>\n",
              "      <td>0.1444</td>\n",
              "      <td>0.4245</td>\n",
              "      <td>0.4504</td>\n",
              "      <td>0.2430</td>\n",
              "      <td>0.3613</td>\n",
              "      <td>0.08758</td>\n",
              "    </tr>\n",
              "    <tr>\n",
              "      <th>3</th>\n",
              "      <td>11.42</td>\n",
              "      <td>20.38</td>\n",
              "      <td>77.58</td>\n",
              "      <td>386.1</td>\n",
              "      <td>0.14250</td>\n",
              "      <td>0.28390</td>\n",
              "      <td>0.2414</td>\n",
              "      <td>0.10520</td>\n",
              "      <td>0.2597</td>\n",
              "      <td>0.09744</td>\n",
              "      <td>...</td>\n",
              "      <td>14.91</td>\n",
              "      <td>26.50</td>\n",
              "      <td>98.87</td>\n",
              "      <td>567.7</td>\n",
              "      <td>0.2098</td>\n",
              "      <td>0.8663</td>\n",
              "      <td>0.6869</td>\n",
              "      <td>0.2575</td>\n",
              "      <td>0.6638</td>\n",
              "      <td>0.17300</td>\n",
              "    </tr>\n",
              "    <tr>\n",
              "      <th>4</th>\n",
              "      <td>20.29</td>\n",
              "      <td>14.34</td>\n",
              "      <td>135.10</td>\n",
              "      <td>1297.0</td>\n",
              "      <td>0.10030</td>\n",
              "      <td>0.13280</td>\n",
              "      <td>0.1980</td>\n",
              "      <td>0.10430</td>\n",
              "      <td>0.1809</td>\n",
              "      <td>0.05883</td>\n",
              "      <td>...</td>\n",
              "      <td>22.54</td>\n",
              "      <td>16.67</td>\n",
              "      <td>152.20</td>\n",
              "      <td>1575.0</td>\n",
              "      <td>0.1374</td>\n",
              "      <td>0.2050</td>\n",
              "      <td>0.4000</td>\n",
              "      <td>0.1625</td>\n",
              "      <td>0.2364</td>\n",
              "      <td>0.07678</td>\n",
              "    </tr>\n",
              "  </tbody>\n",
              "</table>\n",
              "<p>5 rows × 30 columns</p>\n",
              "</div>\n",
              "      <button class=\"colab-df-convert\" onclick=\"convertToInteractive('df-ec20e8e6-6680-4e56-b994-b56227f6a504')\"\n",
              "              title=\"Convert this dataframe to an interactive table.\"\n",
              "              style=\"display:none;\">\n",
              "        \n",
              "  <svg xmlns=\"http://www.w3.org/2000/svg\" height=\"24px\"viewBox=\"0 0 24 24\"\n",
              "       width=\"24px\">\n",
              "    <path d=\"M0 0h24v24H0V0z\" fill=\"none\"/>\n",
              "    <path d=\"M18.56 5.44l.94 2.06.94-2.06 2.06-.94-2.06-.94-.94-2.06-.94 2.06-2.06.94zm-11 1L8.5 8.5l.94-2.06 2.06-.94-2.06-.94L8.5 2.5l-.94 2.06-2.06.94zm10 10l.94 2.06.94-2.06 2.06-.94-2.06-.94-.94-2.06-.94 2.06-2.06.94z\"/><path d=\"M17.41 7.96l-1.37-1.37c-.4-.4-.92-.59-1.43-.59-.52 0-1.04.2-1.43.59L10.3 9.45l-7.72 7.72c-.78.78-.78 2.05 0 2.83L4 21.41c.39.39.9.59 1.41.59.51 0 1.02-.2 1.41-.59l7.78-7.78 2.81-2.81c.8-.78.8-2.07 0-2.86zM5.41 20L4 18.59l7.72-7.72 1.47 1.35L5.41 20z\"/>\n",
              "  </svg>\n",
              "      </button>\n",
              "      \n",
              "  <style>\n",
              "    .colab-df-container {\n",
              "      display:flex;\n",
              "      flex-wrap:wrap;\n",
              "      gap: 12px;\n",
              "    }\n",
              "\n",
              "    .colab-df-convert {\n",
              "      background-color: #E8F0FE;\n",
              "      border: none;\n",
              "      border-radius: 50%;\n",
              "      cursor: pointer;\n",
              "      display: none;\n",
              "      fill: #1967D2;\n",
              "      height: 32px;\n",
              "      padding: 0 0 0 0;\n",
              "      width: 32px;\n",
              "    }\n",
              "\n",
              "    .colab-df-convert:hover {\n",
              "      background-color: #E2EBFA;\n",
              "      box-shadow: 0px 1px 2px rgba(60, 64, 67, 0.3), 0px 1px 3px 1px rgba(60, 64, 67, 0.15);\n",
              "      fill: #174EA6;\n",
              "    }\n",
              "\n",
              "    [theme=dark] .colab-df-convert {\n",
              "      background-color: #3B4455;\n",
              "      fill: #D2E3FC;\n",
              "    }\n",
              "\n",
              "    [theme=dark] .colab-df-convert:hover {\n",
              "      background-color: #434B5C;\n",
              "      box-shadow: 0px 1px 3px 1px rgba(0, 0, 0, 0.15);\n",
              "      filter: drop-shadow(0px 1px 2px rgba(0, 0, 0, 0.3));\n",
              "      fill: #FFFFFF;\n",
              "    }\n",
              "  </style>\n",
              "\n",
              "      <script>\n",
              "        const buttonEl =\n",
              "          document.querySelector('#df-ec20e8e6-6680-4e56-b994-b56227f6a504 button.colab-df-convert');\n",
              "        buttonEl.style.display =\n",
              "          google.colab.kernel.accessAllowed ? 'block' : 'none';\n",
              "\n",
              "        async function convertToInteractive(key) {\n",
              "          const element = document.querySelector('#df-ec20e8e6-6680-4e56-b994-b56227f6a504');\n",
              "          const dataTable =\n",
              "            await google.colab.kernel.invokeFunction('convertToInteractive',\n",
              "                                                     [key], {});\n",
              "          if (!dataTable) return;\n",
              "\n",
              "          const docLinkHtml = 'Like what you see? Visit the ' +\n",
              "            '<a target=\"_blank\" href=https://colab.research.google.com/notebooks/data_table.ipynb>data table notebook</a>'\n",
              "            + ' to learn more about interactive tables.';\n",
              "          element.innerHTML = '';\n",
              "          dataTable['output_type'] = 'display_data';\n",
              "          await google.colab.output.renderOutput(dataTable, element);\n",
              "          const docLink = document.createElement('div');\n",
              "          docLink.innerHTML = docLinkHtml;\n",
              "          element.appendChild(docLink);\n",
              "        }\n",
              "      </script>\n",
              "    </div>\n",
              "  </div>\n",
              "  "
            ]
          },
          "metadata": {},
          "execution_count": 281
        }
      ]
    },
    {
      "cell_type": "code",
      "source": [
        "name = ['label']\n",
        "labels = breast_cancer.target\n",
        "print(labels)"
      ],
      "metadata": {
        "id": "KQIxFJU1uOGF",
        "colab": {
          "base_uri": "https://localhost:8080/"
        },
        "outputId": "4c00c219-1c9e-4f2c-a145-7558b17eaccd"
      },
      "execution_count": 282,
      "outputs": [
        {
          "output_type": "stream",
          "name": "stdout",
          "text": [
            "[0 0 0 0 0 0 0 0 0 0 0 0 0 0 0 0 0 0 0 1 1 1 0 0 0 0 0 0 0 0 0 0 0 0 0 0 0\n",
            " 1 0 0 0 0 0 0 0 0 1 0 1 1 1 1 1 0 0 1 0 0 1 1 1 1 0 1 0 0 1 1 1 1 0 1 0 0\n",
            " 1 0 1 0 0 1 1 1 0 0 1 0 0 0 1 1 1 0 1 1 0 0 1 1 1 0 0 1 1 1 1 0 1 1 0 1 1\n",
            " 1 1 1 1 1 1 0 0 0 1 0 0 1 1 1 0 0 1 0 1 0 0 1 0 0 1 1 0 1 1 0 1 1 1 1 0 1\n",
            " 1 1 1 1 1 1 1 1 0 1 1 1 1 0 0 1 0 1 1 0 0 1 1 0 0 1 1 1 1 0 1 1 0 0 0 1 0\n",
            " 1 0 1 1 1 0 1 1 0 0 1 0 0 0 0 1 0 0 0 1 0 1 0 1 1 0 1 0 0 0 0 1 1 0 0 1 1\n",
            " 1 0 1 1 1 1 1 0 0 1 1 0 1 1 0 0 1 0 1 1 1 1 0 1 1 1 1 1 0 1 0 0 0 0 0 0 0\n",
            " 0 0 0 0 0 0 0 1 1 1 1 1 1 0 1 0 1 1 0 1 1 0 1 0 0 1 1 1 1 1 1 1 1 1 1 1 1\n",
            " 1 0 1 1 0 1 0 1 1 1 1 1 1 1 1 1 1 1 1 1 1 0 1 1 1 0 1 0 1 1 1 1 0 0 0 1 1\n",
            " 1 1 0 1 0 1 0 1 1 1 0 1 1 1 1 1 1 1 0 0 0 1 1 1 1 1 1 1 1 1 1 1 0 0 1 0 0\n",
            " 0 1 0 0 1 1 1 1 1 0 1 1 1 1 1 0 1 1 1 0 1 1 0 0 1 1 1 1 1 1 0 1 1 1 1 1 1\n",
            " 1 0 1 1 1 1 1 0 1 1 0 1 1 1 1 1 1 1 1 1 1 1 1 0 1 0 0 1 0 1 1 1 1 1 0 1 1\n",
            " 0 1 0 1 1 0 1 0 1 1 1 1 1 1 1 1 0 0 1 1 1 1 1 1 0 1 1 1 1 1 1 1 1 1 1 0 1\n",
            " 1 1 1 1 1 1 0 1 0 1 1 0 1 1 1 1 1 0 0 1 0 1 0 1 1 1 1 1 0 1 1 0 1 0 1 0 0\n",
            " 1 1 1 0 1 1 1 1 1 1 1 1 1 1 1 0 1 0 0 1 1 1 1 1 1 1 1 1 1 1 1 1 1 1 1 1 1\n",
            " 1 1 1 1 1 1 1 0 0 0 0 0 0 1]\n"
          ]
        }
      ]
    },
    {
      "cell_type": "markdown",
      "source": [
        "# Task 1: K-means (25 points)"
      ],
      "metadata": {
        "id": "SHzMc7csxMAU"
      }
    },
    {
      "cell_type": "markdown",
      "source": [
        "If you run successfully the Setup and Data Preprocessing stages, you are now ready to cluster the data with the [K-means](https://scikit-learn.org/stable/modules/generated/sklearn.cluster.KMeans.html) algorithm included sklearn.\n",
        "Set the ```k``` parameter to **2**, fit the model, and the compute the [Silhouette score](https://en.wikipedia.org/wiki/Silhouette_(clustering)) (i.e., a measure of quality of the obtained clustering).  \n",
        "\n",
        "**IMPORTANT:** use sklearn implementation of the Silhouette score (via ```sklearn.metrics```)."
      ],
      "metadata": {
        "id": "9quCpQFzxmvd"
      }
    },
    {
      "cell_type": "code",
      "source": [
        "from sklearn.cluster import KMeans\n",
        "X = features\n",
        "kmeans = KMeans(n_clusters=2).fit(X)\n"
      ],
      "metadata": {
        "id": "mQV_MPXXvf0K"
      },
      "execution_count": 283,
      "outputs": []
    },
    {
      "cell_type": "markdown",
      "source": [
        "Take the predictions produced by K-means, and compare them with the ```labels``` variable (i.e., the ground truth from our dataset).  \n",
        "\n",
        "For each cluster, compute how many data points in the dataset have been positive cases and negative cases. Based on this, use your judgement to determine which cluster should be assigned which label, and how many points have been labeled correctly.\n",
        "\n",
        "**IMPORTANT**: K-means is a clustering algorithm, so it will not output a label for each data point, but just a cluster identifier!  As such, label ```0``` does not necessarily match the cluster identifier ```0```.\n"
      ],
      "metadata": {
        "id": "9dkLrj2PzWw8"
      }
    },
    {
      "cell_type": "code",
      "source": [
        "klabel = kmeans.fit_predict(X)\n",
        "klabel"
      ],
      "metadata": {
        "colab": {
          "base_uri": "https://localhost:8080/"
        },
        "id": "77PF8ZbQ2bwP",
        "outputId": "4a8dbd32-d7dc-4e0c-b491-d2cfa750ca42"
      },
      "execution_count": 284,
      "outputs": [
        {
          "output_type": "execute_result",
          "data": {
            "text/plain": [
              "array([1, 1, 1, 0, 1, 0, 1, 0, 0, 0, 0, 1, 1, 0, 0, 0, 0, 1, 1, 0, 0, 0,\n",
              "       0, 1, 1, 1, 0, 1, 1, 1, 1, 0, 1, 1, 1, 1, 0, 0, 0, 0, 0, 0, 1, 0,\n",
              "       0, 1, 0, 0, 0, 0, 0, 0, 0, 1, 0, 0, 1, 0, 0, 0, 0, 0, 0, 0, 0, 0,\n",
              "       0, 0, 0, 0, 1, 0, 1, 0, 0, 1, 0, 1, 1, 0, 0, 0, 1, 1, 0, 1, 0, 1,\n",
              "       0, 0, 0, 0, 0, 0, 0, 1, 0, 0, 0, 0, 0, 0, 0, 0, 0, 0, 0, 0, 1, 0,\n",
              "       0, 0, 0, 0, 0, 0, 0, 0, 1, 1, 0, 1, 1, 0, 0, 0, 0, 1, 0, 1, 0, 0,\n",
              "       0, 0, 1, 0, 0, 0, 0, 0, 0, 1, 0, 0, 0, 0, 0, 0, 0, 0, 0, 0, 0, 0,\n",
              "       0, 0, 1, 0, 0, 0, 0, 1, 1, 0, 1, 0, 0, 1, 1, 0, 0, 0, 0, 0, 0, 0,\n",
              "       0, 0, 0, 0, 1, 1, 1, 0, 0, 0, 1, 0, 0, 0, 0, 0, 0, 0, 0, 0, 0, 1,\n",
              "       1, 0, 0, 1, 1, 0, 0, 0, 0, 1, 0, 0, 1, 0, 1, 0, 0, 0, 0, 0, 1, 1,\n",
              "       0, 0, 0, 0, 0, 0, 0, 0, 0, 0, 1, 0, 0, 1, 0, 0, 1, 1, 0, 1, 0, 0,\n",
              "       0, 0, 1, 0, 0, 0, 0, 0, 1, 0, 1, 1, 1, 0, 1, 0, 1, 0, 1, 1, 1, 0,\n",
              "       1, 1, 0, 0, 0, 0, 0, 0, 1, 0, 1, 0, 0, 1, 0, 0, 1, 0, 1, 0, 0, 0,\n",
              "       0, 0, 0, 0, 0, 0, 0, 0, 0, 0, 0, 0, 0, 0, 1, 0, 1, 0, 0, 0, 0, 0,\n",
              "       0, 0, 0, 0, 0, 0, 0, 0, 0, 1, 0, 0, 0, 1, 0, 1, 0, 0, 0, 0, 0, 0,\n",
              "       0, 0, 0, 0, 0, 1, 0, 1, 0, 1, 0, 0, 0, 1, 0, 0, 0, 0, 0, 0, 0, 0,\n",
              "       1, 0, 0, 0, 0, 0, 0, 0, 0, 0, 0, 0, 0, 1, 1, 0, 1, 1, 0, 0, 1, 1,\n",
              "       0, 0, 0, 0, 0, 0, 0, 0, 0, 0, 0, 0, 0, 0, 0, 1, 0, 0, 1, 1, 0, 0,\n",
              "       0, 0, 0, 0, 1, 0, 0, 0, 0, 0, 0, 0, 1, 0, 0, 0, 0, 0, 0, 0, 0, 1,\n",
              "       0, 0, 0, 0, 0, 0, 0, 0, 0, 0, 0, 0, 0, 0, 1, 1, 0, 0, 0, 0, 0, 0,\n",
              "       0, 1, 0, 0, 1, 0, 1, 0, 0, 1, 0, 1, 0, 0, 0, 0, 0, 0, 0, 0, 1, 1,\n",
              "       0, 0, 0, 0, 0, 0, 1, 0, 0, 0, 0, 0, 0, 0, 0, 0, 0, 0, 0, 0, 0, 0,\n",
              "       0, 0, 0, 1, 0, 0, 0, 1, 1, 0, 0, 0, 0, 0, 1, 1, 0, 0, 0, 1, 0, 0,\n",
              "       0, 0, 0, 0, 0, 0, 0, 0, 0, 0, 1, 1, 0, 0, 0, 1, 0, 0, 0, 0, 0, 0,\n",
              "       0, 0, 0, 0, 0, 1, 0, 1, 0, 0, 0, 0, 0, 0, 0, 0, 0, 0, 0, 0, 0, 0,\n",
              "       0, 0, 0, 0, 0, 0, 0, 0, 0, 0, 0, 0, 0, 1, 1, 1, 0, 1, 0],\n",
              "      dtype=int32)"
            ]
          },
          "metadata": {},
          "execution_count": 284
        }
      ]
    },
    {
      "cell_type": "code",
      "source": [
        "kmeans.cluster_centers_"
      ],
      "metadata": {
        "colab": {
          "base_uri": "https://localhost:8080/"
        },
        "id": "vIy_sUvFSbJ7",
        "outputId": "e6a44ca8-582f-4a04-9419-ae289b11fcd6"
      },
      "execution_count": 286,
      "outputs": [
        {
          "output_type": "execute_result",
          "data": {
            "text/plain": [
              "array([[1.25562991e+01, 1.85703653e+01, 8.11234703e+01, 4.96061872e+02,\n",
              "        9.48844977e-02, 9.10998174e-02, 6.24377642e-02, 3.34325434e-02,\n",
              "        1.78057991e-01, 6.34540183e-02, 3.04190868e-01, 1.21515320e+00,\n",
              "        2.15288059e+00, 2.37852922e+01, 7.17326256e-03, 2.34746895e-02,\n",
              "        2.87455128e-02, 1.06363242e-02, 2.06135799e-02, 3.74750297e-03,\n",
              "        1.40439018e+01, 2.47095434e+01, 9.19375114e+01, 6.19647945e+02,\n",
              "        1.29959110e-01, 2.23311758e-01, 2.19214947e-01, 9.13298425e-02,\n",
              "        2.83553653e-01, 8.32819406e-02],\n",
              "       [1.93799237e+01, 2.16945802e+01, 1.28231298e+02, 1.18592977e+03,\n",
              "        1.01294580e-01, 1.48612977e-01, 1.76939466e-01, 1.00698779e-01,\n",
              "        1.91539695e-01, 6.06029008e-02, 7.42803817e-01, 1.22253817e+00,\n",
              "        5.25058015e+00, 9.56781679e+01, 6.59868702e-03, 3.21766947e-02,\n",
              "        4.24197710e-02, 1.56739847e-02, 2.03039695e-02, 3.95338931e-03,\n",
              "        2.37094656e+01, 2.89126718e+01, 1.58496183e+02, 1.75302290e+03,\n",
              "        1.40424733e-01, 3.57757710e-01, 4.49306107e-01, 1.92431069e-01,\n",
              "        3.11881679e-01, 8.61654962e-02]])"
            ]
          },
          "metadata": {},
          "execution_count": 286
        }
      ]
    },
    {
      "cell_type": "markdown",
      "source": [
        "## Silhouette score KMeans"
      ],
      "metadata": {
        "id": "TSdO1bn0_qK6"
      }
    },
    {
      "cell_type": "code",
      "source": [
        "scoreK = silhouette_score(X, kmeans.labels_, metric='euclidean')\n",
        "scoreK"
      ],
      "metadata": {
        "colab": {
          "base_uri": "https://localhost:8080/"
        },
        "id": "P2l318mhtcrb",
        "outputId": "3b880e42-6923-4ee7-a723-b2b13d454154"
      },
      "execution_count": 287,
      "outputs": [
        {
          "output_type": "execute_result",
          "data": {
            "text/plain": [
              "0.6972646156059464"
            ]
          },
          "metadata": {},
          "execution_count": 287
        }
      ]
    },
    {
      "cell_type": "code",
      "source": [
        "from sklearn.metrics.cluster import contingency_matrix\n",
        "contingency_matrix(labels, klabel)"
      ],
      "metadata": {
        "colab": {
          "base_uri": "https://localhost:8080/"
        },
        "id": "Rj3-C-va45Dg",
        "outputId": "29f85d27-153c-4da6-f261-d2aa8e14ae74"
      },
      "execution_count": 288,
      "outputs": [
        {
          "output_type": "execute_result",
          "data": {
            "text/plain": [
              "array([[ 82, 130],\n",
              "       [356,   1]])"
            ]
          },
          "metadata": {},
          "execution_count": 288
        }
      ]
    },
    {
      "cell_type": "code",
      "source": [
        "from sklearn.metrics import confusion_matrix, ConfusionMatrixDisplay\n",
        "\n",
        "cm = confusion_matrix(labels, klabel)\n",
        "cmd = ConfusionMatrixDisplay(cm, display_labels=['1','0'])\n",
        "cmd.plot()"
      ],
      "metadata": {
        "colab": {
          "base_uri": "https://localhost:8080/",
          "height": 297
        },
        "id": "t78uIItIDQkM",
        "outputId": "e470e1a4-3bf7-47e4-ae4a-6b8a8c3c3ae0"
      },
      "execution_count": 289,
      "outputs": [
        {
          "output_type": "execute_result",
          "data": {
            "text/plain": [
              "<sklearn.metrics._plot.confusion_matrix.ConfusionMatrixDisplay at 0x7f1e05124e50>"
            ]
          },
          "metadata": {},
          "execution_count": 289
        },
        {
          "output_type": "display_data",
          "data": {
            "text/plain": [
              "<Figure size 432x288 with 2 Axes>"
            ],
            "image/png": "[encoded data removed]"
          },
          "metadata": {
            "needs_background": "light"
          }
        }
      ]
    },
    {
      "cell_type": "markdown",
      "source": [
        "## ANSWER: In the case of k-means, the euclidean distance between each observation (data point) and each cluster mean (centroid) is computed, and the observations are assigned to the cluster with the most comparable observations."
      ],
      "metadata": {
        "id": "zgrmtVke-T0i"
      }
    },
    {
      "cell_type": "code",
      "source": [
        "list_of_arrays = [labels,klabel]\n",
        "comparison_df = pd.DataFrame(np.array(list_of_arrays).T)\n",
        "\n",
        "comparison_df.columns = ['clusters','pred']\n",
        "comparison_df.head()"
      ],
      "metadata": {
        "colab": {
          "base_uri": "https://localhost:8080/",
          "height": 206
        },
        "id": "VugKJsyzLXYK",
        "outputId": "e8b8d5df-c258-4af1-abcb-d1b7945b56a9"
      },
      "execution_count": 290,
      "outputs": [
        {
          "output_type": "execute_result",
          "data": {
            "text/plain": [
              "   clusters  pred\n",
              "0         0     1\n",
              "1         0     1\n",
              "2         0     1\n",
              "3         0     0\n",
              "4         0     1"
            ],
            "text/html": [
              "\n",
              "  <div id=\"df-91c9e257-97d3-49ee-8b08-c5e0e24e766d\">\n",
              "    <div class=\"colab-df-container\">\n",
              "      <div>\n",
              "<style scoped>\n",
              "    .dataframe tbody tr th:only-of-type {\n",
              "        vertical-align: middle;\n",
              "    }\n",
              "\n",
              "    .dataframe tbody tr th {\n",
              "        vertical-align: top;\n",
              "    }\n",
              "\n",
              "    .dataframe thead th {\n",
              "        text-align: right;\n",
              "    }\n",
              "</style>\n",
              "<table border=\"1\" class=\"dataframe\">\n",
              "  <thead>\n",
              "    <tr style=\"text-align: right;\">\n",
              "      <th></th>\n",
              "      <th>clusters</th>\n",
              "      <th>pred</th>\n",
              "    </tr>\n",
              "  </thead>\n",
              "  <tbody>\n",
              "    <tr>\n",
              "      <th>0</th>\n",
              "      <td>0</td>\n",
              "      <td>1</td>\n",
              "    </tr>\n",
              "    <tr>\n",
              "      <th>1</th>\n",
              "      <td>0</td>\n",
              "      <td>1</td>\n",
              "    </tr>\n",
              "    <tr>\n",
              "      <th>2</th>\n",
              "      <td>0</td>\n",
              "      <td>1</td>\n",
              "    </tr>\n",
              "    <tr>\n",
              "      <th>3</th>\n",
              "      <td>0</td>\n",
              "      <td>0</td>\n",
              "    </tr>\n",
              "    <tr>\n",
              "      <th>4</th>\n",
              "      <td>0</td>\n",
              "      <td>1</td>\n",
              "    </tr>\n",
              "  </tbody>\n",
              "</table>\n",
              "</div>\n",
              "      <button class=\"colab-df-convert\" onclick=\"convertToInteractive('df-91c9e257-97d3-49ee-8b08-c5e0e24e766d')\"\n",
              "              title=\"Convert this dataframe to an interactive table.\"\n",
              "              style=\"display:none;\">\n",
              "        \n",
              "  <svg xmlns=\"http://www.w3.org/2000/svg\" height=\"24px\"viewBox=\"0 0 24 24\"\n",
              "       width=\"24px\">\n",
              "    <path d=\"M0 0h24v24H0V0z\" fill=\"none\"/>\n",
              "    <path d=\"M18.56 5.44l.94 2.06.94-2.06 2.06-.94-2.06-.94-.94-2.06-.94 2.06-2.06.94zm-11 1L8.5 8.5l.94-2.06 2.06-.94-2.06-.94L8.5 2.5l-.94 2.06-2.06.94zm10 10l.94 2.06.94-2.06 2.06-.94-2.06-.94-.94-2.06-.94 2.06-2.06.94z\"/><path d=\"M17.41 7.96l-1.37-1.37c-.4-.4-.92-.59-1.43-.59-.52 0-1.04.2-1.43.59L10.3 9.45l-7.72 7.72c-.78.78-.78 2.05 0 2.83L4 21.41c.39.39.9.59 1.41.59.51 0 1.02-.2 1.41-.59l7.78-7.78 2.81-2.81c.8-.78.8-2.07 0-2.86zM5.41 20L4 18.59l7.72-7.72 1.47 1.35L5.41 20z\"/>\n",
              "  </svg>\n",
              "      </button>\n",
              "      \n",
              "  <style>\n",
              "    .colab-df-container {\n",
              "      display:flex;\n",
              "      flex-wrap:wrap;\n",
              "      gap: 12px;\n",
              "    }\n",
              "\n",
              "    .colab-df-convert {\n",
              "      background-color: #E8F0FE;\n",
              "      border: none;\n",
              "      border-radius: 50%;\n",
              "      cursor: pointer;\n",
              "      display: none;\n",
              "      fill: #1967D2;\n",
              "      height: 32px;\n",
              "      padding: 0 0 0 0;\n",
              "      width: 32px;\n",
              "    }\n",
              "\n",
              "    .colab-df-convert:hover {\n",
              "      background-color: #E2EBFA;\n",
              "      box-shadow: 0px 1px 2px rgba(60, 64, 67, 0.3), 0px 1px 3px 1px rgba(60, 64, 67, 0.15);\n",
              "      fill: #174EA6;\n",
              "    }\n",
              "\n",
              "    [theme=dark] .colab-df-convert {\n",
              "      background-color: #3B4455;\n",
              "      fill: #D2E3FC;\n",
              "    }\n",
              "\n",
              "    [theme=dark] .colab-df-convert:hover {\n",
              "      background-color: #434B5C;\n",
              "      box-shadow: 0px 1px 3px 1px rgba(0, 0, 0, 0.15);\n",
              "      filter: drop-shadow(0px 1px 2px rgba(0, 0, 0, 0.3));\n",
              "      fill: #FFFFFF;\n",
              "    }\n",
              "  </style>\n",
              "\n",
              "      <script>\n",
              "        const buttonEl =\n",
              "          document.querySelector('#df-91c9e257-97d3-49ee-8b08-c5e0e24e766d button.colab-df-convert');\n",
              "        buttonEl.style.display =\n",
              "          google.colab.kernel.accessAllowed ? 'block' : 'none';\n",
              "\n",
              "        async function convertToInteractive(key) {\n",
              "          const element = document.querySelector('#df-91c9e257-97d3-49ee-8b08-c5e0e24e766d');\n",
              "          const dataTable =\n",
              "            await google.colab.kernel.invokeFunction('convertToInteractive',\n",
              "                                                     [key], {});\n",
              "          if (!dataTable) return;\n",
              "\n",
              "          const docLinkHtml = 'Like what you see? Visit the ' +\n",
              "            '<a target=\"_blank\" href=https://colab.research.google.com/notebooks/data_table.ipynb>data table notebook</a>'\n",
              "            + ' to learn more about interactive tables.';\n",
              "          element.innerHTML = '';\n",
              "          dataTable['output_type'] = 'display_data';\n",
              "          await google.colab.output.renderOutput(dataTable, element);\n",
              "          const docLink = document.createElement('div');\n",
              "          docLink.innerHTML = docLinkHtml;\n",
              "          element.appendChild(docLink);\n",
              "        }\n",
              "      </script>\n",
              "    </div>\n",
              "  </div>\n",
              "  "
            ]
          },
          "metadata": {},
          "execution_count": 290
        }
      ]
    },
    {
      "cell_type": "code",
      "source": [
        "correct = len(comparison_df[comparison_df['pred'] == comparison_df['clusters']])\n",
        "total = len(comparison_df)\n",
        "incorrect = total - correct\n",
        "print(correct,incorrect, total, correct/total, incorrect/total)"
      ],
      "metadata": {
        "colab": {
          "base_uri": "https://localhost:8080/"
        },
        "id": "O895mrprM6J6",
        "outputId": "db6fb0f0-4a38-40ee-937f-4bc85b3e0175"
      },
      "execution_count": 291,
      "outputs": [
        {
          "output_type": "stream",
          "name": "stdout",
          "text": [
            "83 486 569 0.14586994727592267 0.8541300527240774\n"
          ]
        }
      ]
    },
    {
      "cell_type": "markdown",
      "source": [
        "## ANSWER: 85.4% and 14.5% for positive and negative cases\n",
        "\n",
        "## cluster 0 can be assigned for label 1 and cluster 1 can be assigned for label 0"
      ],
      "metadata": {
        "id": "XVDriOgJPK19"
      }
    },
    {
      "cell_type": "markdown",
      "source": [
        "# Task 2: PCA (10 points)"
      ],
      "metadata": {
        "id": "AOfXCfy7lm6i"
      }
    },
    {
      "cell_type": "markdown",
      "source": [
        "Now perform dimensionality reduction on the ```features``` using the [PCA](https://scikit-learn.org/stable/modules/generated/sklearn.decomposition.PCA.html) statistical procedure, available in sklearn.\n",
        "\n",
        "Set the ```n``` parameter to **2**, effectively reducing the dataset size of a **15X** factor: from 30 features to just 2."
      ],
      "metadata": {
        "id": "QHspoL59lzHM"
      }
    },
    {
      "cell_type": "code",
      "source": [
        "from sklearn.decomposition import PCA\n",
        "from sklearn.preprocessing import StandardScaler\n",
        "X = features\n",
        "\n",
        "#X_normalized = StandardScaler().fit(X).transform(X)  \n",
        "\n",
        "pca = PCA(n_components=2).fit(X)\n",
        "X_pca = pca.transform(X)\n",
        "print(X.shape, X_pca.shape) # to check the dimensions of feature matrix"
      ],
      "metadata": {
        "id": "V1pyebsw0slr",
        "colab": {
          "base_uri": "https://localhost:8080/"
        },
        "outputId": "606a9d0f-54ba-46e0-d510-99489db75794"
      },
      "execution_count": 292,
      "outputs": [
        {
          "output_type": "stream",
          "name": "stdout",
          "text": [
            "(569, 30) (569, 2)\n"
          ]
        }
      ]
    },
    {
      "cell_type": "code",
      "source": [
        "X_pca"
      ],
      "metadata": {
        "colab": {
          "base_uri": "https://localhost:8080/"
        },
        "id": "ffosOImtX1mW",
        "outputId": "d119212c-4712-4442-c851-61756cab193b"
      },
      "execution_count": 293,
      "outputs": [
        {
          "output_type": "execute_result",
          "data": {
            "text/plain": [
              "array([[1160.1425737 , -293.91754364],\n",
              "       [1269.12244319,   15.63018184],\n",
              "       [ 995.79388896,   39.15674324],\n",
              "       ...,\n",
              "       [ 314.50175618,   47.55352518],\n",
              "       [1124.85811531,   34.12922497],\n",
              "       [-771.52762188,  -88.64310636]])"
            ]
          },
          "metadata": {},
          "execution_count": 293
        }
      ]
    },
    {
      "cell_type": "markdown",
      "source": [
        "Now run K-means with the same parameters as above, but on the ```pcaFeatures``` produced by the PCA reduction you just executed and compute the Silhouette score."
      ],
      "metadata": {
        "id": "jlY4yQwioLpg"
      }
    },
    {
      "cell_type": "code",
      "source": [
        "from sklearn.cluster import KMeans\n",
        "X = X_pca\n",
        "kmeans = KMeans(n_clusters=2).fit(X)"
      ],
      "metadata": {
        "id": "_oi0grb2owYI"
      },
      "execution_count": 294,
      "outputs": []
    },
    {
      "cell_type": "code",
      "source": [
        "label = kmeans.fit_predict(X_pca)\n",
        "label"
      ],
      "metadata": {
        "colab": {
          "base_uri": "https://localhost:8080/"
        },
        "id": "QLDX0zY6hmHU",
        "outputId": "f0f5f8c7-5cb1-435a-90d7-960a2d58f86a"
      },
      "execution_count": 295,
      "outputs": [
        {
          "output_type": "execute_result",
          "data": {
            "text/plain": [
              "array([1, 1, 1, 0, 1, 0, 1, 0, 0, 0, 0, 1, 1, 0, 0, 0, 0, 1, 1, 0, 0, 0,\n",
              "       0, 1, 1, 1, 0, 1, 1, 1, 1, 0, 1, 1, 1, 1, 0, 0, 0, 0, 0, 0, 1, 0,\n",
              "       0, 1, 0, 0, 0, 0, 0, 0, 0, 1, 0, 0, 1, 0, 0, 0, 0, 0, 0, 0, 0, 0,\n",
              "       0, 0, 0, 0, 1, 0, 1, 0, 0, 1, 0, 1, 1, 0, 0, 0, 1, 1, 0, 1, 0, 1,\n",
              "       0, 0, 0, 0, 0, 0, 0, 1, 0, 0, 0, 0, 0, 0, 0, 0, 0, 0, 0, 0, 1, 0,\n",
              "       0, 0, 0, 0, 0, 0, 0, 0, 1, 1, 0, 1, 1, 0, 0, 0, 0, 1, 0, 1, 0, 0,\n",
              "       0, 0, 1, 0, 0, 0, 0, 0, 0, 1, 0, 0, 0, 0, 0, 0, 0, 0, 0, 0, 0, 0,\n",
              "       0, 0, 1, 0, 0, 0, 0, 1, 1, 0, 1, 0, 0, 1, 1, 0, 0, 0, 0, 0, 0, 0,\n",
              "       0, 0, 0, 0, 1, 1, 1, 0, 0, 0, 1, 0, 0, 0, 0, 0, 0, 0, 0, 0, 0, 1,\n",
              "       1, 0, 0, 1, 1, 0, 0, 0, 0, 1, 0, 0, 1, 0, 1, 0, 0, 0, 0, 0, 1, 1,\n",
              "       0, 0, 0, 0, 0, 0, 0, 0, 0, 0, 1, 0, 0, 1, 0, 0, 1, 1, 0, 1, 0, 0,\n",
              "       0, 0, 1, 0, 0, 0, 0, 0, 1, 0, 1, 1, 1, 0, 1, 0, 1, 0, 1, 1, 1, 0,\n",
              "       1, 1, 0, 0, 0, 0, 0, 0, 1, 0, 1, 0, 0, 1, 0, 0, 1, 0, 1, 0, 0, 0,\n",
              "       0, 0, 0, 0, 0, 0, 0, 0, 0, 0, 0, 0, 0, 0, 1, 0, 1, 0, 0, 0, 0, 0,\n",
              "       0, 0, 0, 0, 0, 0, 0, 0, 0, 1, 0, 0, 0, 1, 0, 1, 0, 0, 0, 0, 0, 0,\n",
              "       0, 0, 0, 0, 0, 1, 0, 1, 0, 1, 0, 0, 0, 1, 0, 0, 0, 0, 0, 0, 0, 0,\n",
              "       1, 0, 0, 0, 0, 0, 0, 0, 0, 0, 0, 0, 0, 1, 1, 0, 1, 1, 0, 0, 1, 1,\n",
              "       0, 0, 0, 0, 0, 0, 0, 0, 0, 0, 0, 0, 0, 0, 0, 1, 0, 0, 1, 1, 0, 0,\n",
              "       0, 0, 0, 0, 1, 0, 0, 0, 0, 0, 0, 0, 1, 0, 0, 0, 0, 0, 0, 0, 0, 1,\n",
              "       0, 0, 0, 0, 0, 0, 0, 0, 0, 0, 0, 0, 0, 0, 1, 1, 0, 0, 0, 0, 0, 0,\n",
              "       0, 1, 0, 0, 1, 0, 1, 0, 0, 1, 0, 1, 0, 0, 0, 0, 0, 0, 0, 0, 1, 1,\n",
              "       0, 0, 0, 0, 0, 0, 1, 0, 0, 0, 0, 0, 0, 0, 0, 0, 0, 0, 0, 0, 0, 0,\n",
              "       0, 0, 0, 1, 0, 0, 0, 1, 1, 0, 0, 0, 0, 0, 1, 1, 0, 0, 0, 1, 0, 0,\n",
              "       0, 0, 0, 0, 0, 0, 0, 0, 0, 0, 1, 1, 0, 0, 0, 1, 0, 0, 0, 0, 0, 0,\n",
              "       0, 0, 0, 0, 0, 1, 0, 1, 0, 0, 0, 0, 0, 0, 0, 0, 0, 0, 0, 0, 0, 0,\n",
              "       0, 0, 0, 0, 0, 0, 0, 0, 0, 0, 0, 0, 0, 1, 1, 1, 0, 1, 0],\n",
              "      dtype=int32)"
            ]
          },
          "metadata": {},
          "execution_count": 295
        }
      ]
    },
    {
      "cell_type": "code",
      "source": [
        "kmeans.cluster_centers_"
      ],
      "metadata": {
        "colab": {
          "base_uri": "https://localhost:8080/"
        },
        "id": "z1WXApDOWbwT",
        "outputId": "25044f15-17fb-4a3a-c38f-13791ddea573"
      },
      "execution_count": 296,
      "outputs": [
        {
          "output_type": "execute_result",
          "data": {
            "text/plain": [
              "array([[-3.06510219e+02, -4.74773896e-01],\n",
              "       [ 1.02482043e+03,  1.58741196e+00]])"
            ]
          },
          "metadata": {},
          "execution_count": 296
        }
      ]
    },
    {
      "cell_type": "markdown",
      "source": [
        "## Silhouette score PCA"
      ],
      "metadata": {
        "id": "zGHHD2Nu_fiN"
      }
    },
    {
      "cell_type": "code",
      "source": [
        "scorePCA = silhouette_score(X_pca, kmeans.labels_, metric='euclidean')\n",
        "scorePCA"
      ],
      "metadata": {
        "colab": {
          "base_uri": "https://localhost:8080/"
        },
        "id": "ozH6Y2J8tO5r",
        "outputId": "85a43146-2e94-4dd1-f104-18e4a56f46b5"
      },
      "execution_count": 297,
      "outputs": [
        {
          "output_type": "execute_result",
          "data": {
            "text/plain": [
              "0.6984195775999954"
            ]
          },
          "metadata": {},
          "execution_count": 297
        }
      ]
    },
    {
      "cell_type": "markdown",
      "source": [
        "Use the 2 features generated from your PCA to visualize the clusters. Since we have used PCA to bring down th number of features to 2, they can be visualized in a x-y scatter plot. Also plot the centroids generated from the k-means on the same plot.\n",
        "Make sure to give different colors to the two clusters based on their cluster labels generated by k-means.\n",
        "\n",
        "HINT: Read the documentation for the scatter() function."
      ],
      "metadata": {
        "id": "hJI_hfwQpcjT"
      }
    },
    {
      "cell_type": "markdown",
      "source": [
        "## SCATTER PLOT OF THE 2 CLUSTERS:"
      ],
      "metadata": {
        "id": "n4yZ9JdvrYvp"
      }
    },
    {
      "cell_type": "code",
      "source": [
        "#filter rows of original data\n",
        "label0 = X_pca[label == 0]\n",
        "\n",
        "label1 = X_pca[label == 1]\n",
        " \n",
        "#Plotting the results\n",
        "plt.scatter(label0[:,0] , label0[:,1] , color = 'red')\n",
        "plt.scatter(label1[:,0] , label1[:,1] , color = 'black')\n",
        "plt.show()"
      ],
      "metadata": {
        "colab": {
          "base_uri": "https://localhost:8080/",
          "height": 268
        },
        "id": "3V5IGuj9ipjL",
        "outputId": "b92610fc-3e0b-4681-821a-e4d1e7810c0b"
      },
      "execution_count": 298,
      "outputs": [
        {
          "output_type": "display_data",
          "data": {
            "text/plain": [
              "<Figure size 432x288 with 1 Axes>"
            ],
            "image/png": "[encoded data removed]"
          },
          "metadata": {
            "needs_background": "light"
          }
        }
      ]
    },
    {
      "cell_type": "markdown",
      "source": [
        "# Task 3: SVD (10 points)"
      ],
      "metadata": {
        "id": "kNuIw8K7ryiS"
      }
    },
    {
      "cell_type": "markdown",
      "source": [
        "Perform all the tasks you did in Task 2, just instead of PCA, use sklearn to perform [SVD](https://scikit-learn.org/stable/modules/generated/sklearn.decomposition.TruncatedSVD.html), again with n = 2"
      ],
      "metadata": {
        "id": "jfDrEieGr6QB"
      }
    },
    {
      "cell_type": "code",
      "source": [
        "from sklearn.decomposition import TruncatedSVD \n",
        "SVD=TruncatedSVD(2)\n",
        "X = features\n",
        "X_svd = SVD.fit_transform(X)\n",
        "X_svd"
      ],
      "metadata": {
        "id": "dG25RFmJrETa",
        "colab": {
          "base_uri": "https://localhost:8080/"
        },
        "outputId": "a67e6100-2aa3-4c5f-f375-fb7263e4bc98"
      },
      "execution_count": 299,
      "outputs": [
        {
          "output_type": "execute_result",
          "data": {
            "text/plain": [
              "array([[2241.97427647,  347.71556015],\n",
              "       [2372.40840267,   56.90166991],\n",
              "       [2101.8402797 ,   11.94762737],\n",
              "       ...,\n",
              "       [1424.53280954,  -55.0217124 ],\n",
              "       [2231.65579282,   19.99439854],\n",
              "       [ 331.69302638,   -5.29733966]])"
            ]
          },
          "metadata": {},
          "execution_count": 299
        }
      ]
    },
    {
      "cell_type": "code",
      "source": [
        "X = X_svd\n",
        "kmeans = KMeans(n_clusters=2).fit(X)"
      ],
      "metadata": {
        "id": "kfzmkQHV4uR8"
      },
      "execution_count": 300,
      "outputs": []
    },
    {
      "cell_type": "code",
      "source": [
        "label = kmeans.fit_predict(X_svd)\n",
        "label"
      ],
      "metadata": {
        "colab": {
          "base_uri": "https://localhost:8080/"
        },
        "id": "XWfVlsKR4839",
        "outputId": "270ab093-0415-40b5-d0b0-cffd681c04f7"
      },
      "execution_count": 301,
      "outputs": [
        {
          "output_type": "execute_result",
          "data": {
            "text/plain": [
              "array([1, 1, 1, 0, 1, 0, 1, 0, 0, 0, 0, 1, 1, 0, 0, 0, 0, 1, 1, 0, 0, 0,\n",
              "       0, 1, 1, 1, 0, 1, 1, 1, 1, 0, 1, 1, 1, 1, 0, 0, 0, 0, 0, 0, 1, 0,\n",
              "       0, 1, 0, 0, 0, 0, 0, 0, 0, 1, 0, 0, 1, 0, 0, 0, 0, 0, 0, 0, 0, 0,\n",
              "       0, 0, 0, 0, 1, 0, 1, 0, 0, 1, 0, 1, 1, 0, 0, 0, 1, 1, 0, 1, 0, 1,\n",
              "       0, 0, 0, 0, 0, 0, 0, 1, 0, 0, 0, 0, 0, 0, 0, 0, 0, 0, 0, 0, 1, 0,\n",
              "       0, 0, 0, 0, 0, 0, 0, 0, 1, 1, 0, 1, 1, 0, 0, 0, 0, 1, 0, 1, 0, 0,\n",
              "       0, 0, 1, 0, 0, 0, 0, 0, 0, 1, 0, 0, 0, 0, 0, 0, 0, 0, 0, 0, 0, 0,\n",
              "       0, 0, 1, 0, 0, 0, 0, 1, 1, 0, 1, 0, 0, 1, 1, 0, 0, 0, 0, 0, 0, 0,\n",
              "       0, 0, 0, 0, 1, 1, 1, 0, 0, 0, 1, 0, 0, 0, 0, 0, 0, 0, 0, 0, 0, 1,\n",
              "       1, 0, 0, 1, 1, 0, 0, 0, 0, 1, 0, 0, 1, 0, 1, 0, 0, 0, 0, 0, 1, 1,\n",
              "       0, 0, 0, 0, 0, 0, 0, 0, 0, 0, 1, 0, 0, 1, 0, 0, 1, 1, 0, 1, 0, 0,\n",
              "       0, 0, 1, 0, 0, 0, 0, 0, 1, 0, 1, 1, 1, 0, 1, 0, 1, 0, 1, 1, 1, 0,\n",
              "       1, 1, 0, 0, 0, 0, 0, 0, 1, 0, 1, 0, 0, 1, 0, 0, 1, 0, 1, 0, 0, 0,\n",
              "       0, 0, 0, 0, 0, 0, 0, 0, 0, 0, 0, 0, 0, 0, 1, 0, 1, 0, 0, 0, 0, 0,\n",
              "       0, 0, 0, 0, 0, 0, 0, 0, 0, 1, 0, 0, 0, 1, 0, 1, 0, 0, 0, 0, 0, 0,\n",
              "       0, 0, 0, 0, 0, 1, 0, 1, 0, 1, 0, 0, 0, 1, 0, 0, 0, 0, 0, 0, 0, 0,\n",
              "       1, 0, 0, 0, 0, 0, 0, 0, 0, 0, 0, 0, 0, 1, 1, 0, 1, 1, 0, 0, 1, 1,\n",
              "       0, 0, 0, 0, 0, 0, 0, 0, 0, 0, 0, 0, 0, 0, 0, 1, 0, 0, 1, 1, 0, 0,\n",
              "       0, 0, 0, 0, 1, 0, 0, 0, 0, 0, 0, 0, 1, 0, 0, 0, 0, 0, 0, 0, 0, 1,\n",
              "       0, 0, 0, 0, 0, 0, 0, 0, 0, 0, 0, 0, 0, 0, 1, 1, 0, 0, 0, 0, 0, 0,\n",
              "       0, 1, 0, 0, 1, 0, 1, 0, 0, 1, 0, 1, 0, 0, 0, 0, 0, 0, 0, 0, 1, 1,\n",
              "       0, 0, 0, 0, 0, 0, 1, 0, 0, 0, 0, 0, 0, 0, 0, 0, 0, 0, 0, 0, 0, 0,\n",
              "       0, 0, 0, 1, 0, 0, 0, 1, 1, 0, 0, 0, 0, 0, 1, 1, 0, 0, 0, 1, 0, 0,\n",
              "       0, 0, 0, 0, 0, 0, 0, 0, 0, 0, 1, 1, 0, 0, 0, 1, 0, 0, 0, 0, 0, 0,\n",
              "       0, 0, 0, 0, 0, 1, 0, 1, 0, 0, 0, 0, 0, 0, 0, 0, 0, 0, 0, 0, 0, 0,\n",
              "       0, 0, 0, 0, 0, 0, 0, 0, 0, 0, 0, 0, 0, 1, 1, 1, 0, 1, 0],\n",
              "      dtype=int32)"
            ]
          },
          "metadata": {},
          "execution_count": 301
        }
      ]
    },
    {
      "cell_type": "code",
      "source": [
        "kmeans.cluster_centers_"
      ],
      "metadata": {
        "colab": {
          "base_uri": "https://localhost:8080/"
        },
        "id": "NtzFD_8m5CcA",
        "outputId": "af5c789b-f732-45b5-e008-bebea4693b71"
      },
      "execution_count": 302,
      "outputs": [
        {
          "output_type": "execute_result",
          "data": {
            "text/plain": [
              "array([[ 801.97683158,  -56.56898467],\n",
              "       [2128.28386498,   49.79178396]])"
            ]
          },
          "metadata": {},
          "execution_count": 302
        }
      ]
    },
    {
      "cell_type": "code",
      "source": [
        "import matplotlib.pyplot as plt\n",
        " \n",
        "#filter rows of original data\n",
        "label0 = X_svd[label == 0]\n",
        "\n",
        "label1 = X_svd[label == 1]\n",
        " \n",
        "#Plotting the results\n",
        "plt.scatter(label0[:,0] , label0[:,1] , color = 'red')\n",
        "plt.scatter(label1[:,0] , label1[:,1] , color = 'black')\n",
        "plt.show()"
      ],
      "metadata": {
        "colab": {
          "base_uri": "https://localhost:8080/",
          "height": 265
        },
        "id": "w4k2JeCm5DAE",
        "outputId": "a9219b3f-ee23-4d58-a73f-f1a182ae460a"
      },
      "execution_count": 303,
      "outputs": [
        {
          "output_type": "display_data",
          "data": {
            "text/plain": [
              "<Figure size 432x288 with 1 Axes>"
            ],
            "image/png": "[encoded data removed]"
          },
          "metadata": {
            "needs_background": "light"
          }
        }
      ]
    },
    {
      "cell_type": "markdown",
      "source": [
        "## Silhouette score SVD"
      ],
      "metadata": {
        "id": "wiVh0aU7_0iy"
      }
    },
    {
      "cell_type": "code",
      "source": [
        "scoreSVD = silhouette_score(X_svd, kmeans.labels_, metric='euclidean')\n",
        "scoreSVD"
      ],
      "metadata": {
        "colab": {
          "base_uri": "https://localhost:8080/"
        },
        "id": "Gfnu0oSJsx07",
        "outputId": "7e894b3c-f41d-4840-8907-4458c327763b"
      },
      "execution_count": 304,
      "outputs": [
        {
          "output_type": "execute_result",
          "data": {
            "text/plain": [
              "0.6988822510646757"
            ]
          },
          "metadata": {},
          "execution_count": 304
        }
      ]
    },
    {
      "cell_type": "markdown",
      "source": [
        "If you have done all the 3 tasks correctly, you should notice that the silhouette score for all 3 methods is almost the same. This is because we have restricted the number of clusters to two. And while there are binary labels, this dataset has 30 features, and breast cancer cases depend on a variable range of data, and hence splitting them into more clusters helps us learn more about the similarities in each cluster. \n",
        "\n",
        "Your last take focuses on that!"
      ],
      "metadata": {
        "id": "v2OucMF6teK9"
      }
    },
    {
      "cell_type": "markdown",
      "source": [
        "## ANSWER: Silhoutte score for above 3 cases is approximately same = 0.69"
      ],
      "metadata": {
        "id": "w2w9UpPVRgkH"
      }
    },
    {
      "cell_type": "markdown",
      "source": [
        "# Task 4: Comparative Analysis to Determine Best value of K (25 points)"
      ],
      "metadata": {
        "id": "hZRF1hFSv61s"
      }
    },
    {
      "cell_type": "markdown",
      "source": [
        "For this entire section, use the original data before running any dimensionality reduction algorithms (features, labels).\n",
        "\n",
        "Run k-means for ```k=2,3,4,5```, calculate the silhouette score and plot the data with the help of ```SilhouetteVisualizer``` from [yellowbricks](https://www.scikit-yb.org/en/latest/index.html). Yellowbrick extends the Scikit-Learn API to make model selection and hyperparameter tuning easier. Under the hood, it’s using Matplotlib.\n",
        "\n",
        "**HINT:** Read up about how the Silhouette plot should look, SilhouetteVisualizer is a very particular plot, which makes understanding the score and clusters intuitive.\n",
        "\n",
        "The y-axis denotes the number of examples, and x-axis denotes the silhouette score for the various clusters with a line depiciting the average silhouette scores."
      ],
      "metadata": {
        "id": "o80N1G36wHyr"
      }
    },
    {
      "cell_type": "code",
      "source": [
        "from sklearn.cluster import KMeans\n",
        "\n",
        "from yellowbrick.cluster import SilhouetteVisualizer\n",
        "from yellowbrick.datasets import load_nfl\n",
        "\n",
        "# Loading the dataset\n",
        "breast_cancer = load_breast_cancer()\n",
        "features = pd.DataFrame(breast_cancer.data, columns=breast_cancer.feature_names)\n",
        "\n",
        "X = features\n",
        "for i in range(2,6): # k = 2,3,4,5\n",
        "  # Instantiate the clustering model and visualizer\n",
        "  model = KMeans(i, random_state=42)\n",
        "  sp = SilhouetteVisualizer(model, colors='yellowbrick')\n",
        "  print(\"Silhouette plot for k =\", i)\n",
        "  sp.fit(X)        # Fit the data to the visualizer\n",
        "  sp.show() \n",
        "  score = silhouette_score(X, model.labels_, metric='euclidean')\n",
        "  print('Silhouette Score: %.3f' % score)"
      ],
      "metadata": {
        "colab": {
          "base_uri": "https://localhost:8080/",
          "height": 1000
        },
        "id": "sc2QK2EgDgE5",
        "outputId": "61d9a28f-1808-452f-8e84-c9fc01f5d896"
      },
      "execution_count": 305,
      "outputs": [
        {
          "output_type": "stream",
          "name": "stdout",
          "text": [
            "Silhouette plot for k = 2\n"
          ]
        },
        {
          "output_type": "display_data",
          "data": {
            "text/plain": [
              "<Figure size 432x288 with 1 Axes>"
            ],
            "image/png": "[encoded data removed]"
          },
          "metadata": {
            "needs_background": "light"
          }
        },
        {
          "output_type": "stream",
          "name": "stdout",
          "text": [
            "Silhouette Score: 0.697\n",
            "Silhouette plot for k = 3\n"
          ]
        },
        {
          "output_type": "display_data",
          "data": {
            "text/plain": [
              "<Figure size 432x288 with 1 Axes>"
            ],
            "image/png": "[encoded data removed]"
          },
          "metadata": {
            "needs_background": "light"
          }
        },
        {
          "output_type": "stream",
          "name": "stdout",
          "text": [
            "Silhouette Score: 0.675\n",
            "Silhouette plot for k = 4\n"
          ]
        },
        {
          "output_type": "display_data",
          "data": {
            "text/plain": [
              "<Figure size 432x288 with 1 Axes>"
            ],
            "image/png": "[encoded data removed]"
          },
          "metadata": {
            "needs_background": "light"
          }
        },
        {
          "output_type": "stream",
          "name": "stdout",
          "text": [
            "Silhouette Score: 0.533\n",
            "Silhouette plot for k = 5\n"
          ]
        },
        {
          "output_type": "display_data",
          "data": {
            "text/plain": [
              "<Figure size 432x288 with 1 Axes>"
            ],
            "image/png": "[encoded data removed]"
          },
          "metadata": {
            "needs_background": "light"
          }
        },
        {
          "output_type": "stream",
          "name": "stdout",
          "text": [
            "Silhouette Score: 0.510\n"
          ]
        }
      ]
    },
    {
      "cell_type": "markdown",
      "source": [
        "Based on your 4 plots, write how many number of clusters is optimal and why?\n",
        "\n",
        "Make sure your answer is based on reasoning covering the following points:\n",
        "\n",
        "\n",
        "*   Average silhouette score\n",
        "*   Thickness of silhouette plots for various clusters\n",
        "*   Fluctuations in size of the silhouette plots\n",
        "\n",
        "\n"
      ],
      "metadata": {
        "id": "h_dbpuz2zhOz"
      }
    },
    {
      "cell_type": "markdown",
      "source": [
        "## ANSWER:\n",
        "## k = 4 & 5 seems to be optimal as it has clusters present above the average silhoutte score.\n",
        "## Size fluctuations of silhoutte plots seem similar in both cases for k = 4 & 5."
      ],
      "metadata": {
        "id": "vFA1BhS481fZ"
      }
    },
    {
      "cell_type": "markdown",
      "source": [
        "# Task 5: CUR Decomposition (30 points)"
      ],
      "metadata": {
        "id": "5MhG9ebo4218"
      }
    },
    {
      "cell_type": "markdown",
      "source": [
        "**Implement** CUR Decomposition for the ```features``` matrix. \n",
        "\n",
        "\n",
        "*   For matrix C and R use the Column Select Algorithm to choose the columns and rows for C and R respectively. \n",
        "*   For matrix U, find the intersection between the matrices C and R, and then find its pseudo-inverse using ```numpy.linalg.pinv```\n",
        "\n",
        "Choose the rank to be 2. Hence the order of your matrices should be:\n",
        "\n",
        "\n",
        "*   C: (569 X 2)\n",
        "*   U: (2 X 2)\n",
        "*   R: (2 X 30)\n",
        "\n",
        "\n",
        "\n"
      ],
      "metadata": {
        "id": "SJfZWMjt8sWN"
      }
    },
    {
      "cell_type": "code",
      "source": [
        "from numpy.linalg import pinv as inv\n",
        "from scipy import sparse as sp\n",
        "\n",
        "def col_select(matrix, rank, dup=False):\n",
        "    # prob 1d array of probabilities of all columns\n",
        "    prob = matrix.T.dot(matrix)\n",
        "    prob = np.array(np.diagonal(prob))\n",
        "    denom = np.abs(prob).sum(axis = 0)\n",
        "    prob = prob/denom\n",
        "\n",
        "    C = np.zeros((matrix.shape[0], rank))\n",
        "    ind_cols = np.arange(0, prob.size)\n",
        "    c_ind = []\n",
        "    for i in range(rank):\n",
        "        rand_sel = np.random.choice(ind_cols, 1, p=prob)\n",
        "        c_ind.append(rand_sel[0])\n",
        "        C[:, i] = matrix.iloc[:, rand_sel[0]]\n",
        "        C[:, i] = C[:, i]/np.sqrt(rank*prob[rand_sel[0]])\n",
        "\n",
        "    return C, c_ind\n",
        "\n",
        "def rows_select(matrix, rank, dup=False):\n",
        "\n",
        "    prob = matrix.dot(matrix.T)\n",
        "    prob = np.array(np.diagonal(prob))\n",
        "    denom = np.abs(prob).sum(axis=0)\n",
        "    prob = prob/denom\n",
        "    print(prob)\n",
        "    R = np.zeros((rank, matrix.shape[1]))\n",
        "    ind_rows = np.arange(0, prob.size)\n",
        "    r_ind = []\n",
        "    for i in range(rank):\n",
        "        rand_sel = np.random.choice(ind_rows, 1, p=prob)\n",
        "        r_ind.append(rand_sel[0])\n",
        "        R[i, :] = matrix.iloc[rand_sel[0], :]\n",
        "        R[i, :] = R[i, :]/np.sqrt(rank*prob[rand_sel[0]])\n",
        "    r_ind = np.array(r_ind)\n",
        "    return R, r_ind\n",
        "\n",
        "def intersection(matrix, c_ind, r_ind):\n",
        "    \n",
        "    W = np.zeros((len(r_ind), len(c_ind)))\n",
        "    for i in range(len(r_ind)):\n",
        "        W[i] = matrix.iloc[r_ind[i], c_ind]\n",
        "    \n",
        "    return W\n",
        "\n",
        "def pseudoInverse(W):\n",
        "\n",
        "    X, Z, YT = np.linalg.svd(W)\n",
        "    \n",
        "    XT = X.T\n",
        "    Y = YT.T\n",
        "\n",
        "    ZP = np.reciprocal(Z)\n",
        "    ZP = sp.spdiags(ZP, 0, ZP.size, ZP.size)\n",
        "    ZP = ZP@ZP\n",
        "\n",
        "    WP = Y@ZP\n",
        "    WP = WP@XT\n",
        "\n",
        "    return WP\n"
      ],
      "metadata": {
        "id": "ie-O7b4T19Ir"
      },
      "execution_count": 306,
      "outputs": []
    },
    {
      "cell_type": "code",
      "source": [
        "matrix= features\n",
        "C, c_ind = col_select(matrix, 2)\n",
        "R, r_ind= rows_select(matrix, 2)\n",
        "W = intersection(matrix, c_ind, r_ind)\n",
        "U = pseudoInverse(W)"
      ],
      "metadata": {
        "colab": {
          "base_uri": "https://localhost:8080/"
        },
        "id": "-SzzCw7w57lV",
        "outputId": "328aac85-e40a-4098-9d4d-5775c89e696a"
      },
      "execution_count": 307,
      "outputs": [
        {
          "output_type": "stream",
          "name": "stdout",
          "text": [
            "[5.39490027e-03 5.89957572e-03 4.62684468e-03 5.12400227e-04\n",
            " 4.41287779e-03 8.34552251e-04 3.87778016e-03 1.21799020e-03\n",
            " 8.77548834e-04 7.87749907e-04 2.08238320e-03 2.44108504e-03\n",
            " 3.23730760e-03 1.47360071e-03 8.83853125e-04 1.41573476e-03\n",
            " 1.87609301e-03 2.51581426e-03 7.75341796e-03 8.85422176e-04\n",
            " 7.18023322e-04 1.91517354e-04 1.55764605e-03 9.29310523e-03\n",
            " 6.05290544e-03 3.16019528e-03 1.30588046e-03 3.36149943e-03\n",
            " 2.28683401e-03 2.56969923e-03 4.21719053e-03 1.05490208e-03\n",
            " 2.77808864e-03 4.90738491e-03 2.38068161e-03 2.40868117e-03\n",
            " 1.11488935e-03 6.15395021e-04 1.05534300e-03 9.23602590e-04\n",
            " 1.00299395e-03 4.36587705e-04 4.19476955e-03 1.19712128e-03\n",
            " 8.91636028e-04 3.83011066e-03 1.11363734e-04 9.24108442e-04\n",
            " 5.83034234e-04 8.61436191e-04 4.86450042e-04 8.12996429e-04\n",
            " 5.06325803e-04 2.99070771e-03 1.67028867e-03 4.57874561e-04\n",
            " 6.26712041e-03 1.49602260e-03 7.16957284e-04 1.39385539e-04\n",
            " 2.55643847e-04 1.38986119e-04 1.43094689e-03 1.81504408e-04\n",
            " 1.11080552e-03 1.39101005e-03 2.00916510e-04 4.04062440e-04\n",
            " 1.85586138e-04 6.02811399e-04 5.03947752e-03 1.56094926e-04\n",
            " 3.90861342e-03 1.07134591e-03 6.39809947e-04 2.30321994e-03\n",
            " 7.29937781e-04 3.83299144e-03 4.44990720e-03 6.91507490e-04\n",
            " 4.73178220e-04 6.98071130e-04 1.06617420e-02 3.15154670e-03\n",
            " 5.59239910e-04 3.94899303e-03 1.15010693e-03 4.01645833e-03\n",
            " 5.91009477e-04 1.14628043e-03 1.15979119e-03 1.30339269e-03\n",
            " 1.06260531e-03 8.54785125e-04 1.65180255e-03 4.93405405e-03\n",
            " 4.84977431e-04 2.41937068e-04 4.67315895e-04 1.17186070e-03\n",
            " 1.24079117e-03 6.29540060e-05 5.50381665e-04 2.41035777e-04\n",
            " 3.00465537e-04 1.03310745e-03 4.78732719e-04 5.53815845e-04\n",
            " 8.31800983e-03 4.60511361e-04 2.40243917e-04 5.50171434e-04\n",
            " 9.66141186e-04 2.75806879e-04 1.49058525e-04 5.73649801e-04\n",
            " 1.48149275e-04 1.77371839e-03 2.37067829e-03 2.71083327e-03\n",
            " 4.56962551e-04 3.77478114e-03 7.86900390e-03 1.03358359e-03\n",
            " 7.57195665e-04 9.34998216e-04 1.12183126e-03 3.88054107e-03\n",
            " 1.11021143e-03 4.17936579e-03 5.45152213e-04 2.01780142e-03\n",
            " 2.16584032e-03 1.52566770e-03 3.90167851e-03 7.34054349e-04\n",
            " 5.16993807e-04 4.04345326e-04 1.50706309e-03 3.65427911e-04\n",
            " 2.19555993e-04 2.32033074e-03 4.45460800e-04 7.27348273e-04\n",
            " 3.48495877e-04 4.83722133e-04 5.79373238e-04 1.20946777e-03\n",
            " 1.06801360e-03 9.29859624e-04 6.99342021e-04 1.17016260e-04\n",
            " 2.58993680e-04 3.68492867e-04 8.03644442e-04 5.71049828e-04\n",
            " 2.79143299e-03 1.95794178e-03 5.22567955e-04 3.84656954e-04\n",
            " 5.11642337e-04 3.79744672e-03 6.82135279e-03 5.62997126e-04\n",
            " 9.09491549e-03 1.16165225e-03 3.24638447e-04 2.52174331e-03\n",
            " 3.95797903e-03 1.17532066e-03 5.56734639e-04 1.39420101e-03\n",
            " 1.87063139e-03 3.21811891e-04 3.14300624e-04 1.31889856e-04\n",
            " 2.67133254e-04 1.76582207e-03 6.95389494e-04 6.28186088e-04\n",
            " 1.62365864e-02 6.43283020e-03 2.33367780e-03 4.11372397e-04\n",
            " 1.54631052e-03 3.17412909e-04 3.25410241e-03 4.84467900e-04\n",
            " 4.57639912e-04 5.53809493e-04 1.02279755e-03 6.41002071e-04\n",
            " 1.92989598e-04 8.79422742e-04 1.14454270e-03 6.74095927e-04\n",
            " 1.07130490e-03 2.71673032e-03 4.41496429e-03 1.59995653e-03\n",
            " 6.66998854e-04 2.59332712e-03 7.17214251e-03 1.79813524e-03\n",
            " 7.43228977e-04 1.58959400e-03 2.16610747e-04 2.42622901e-03\n",
            " 7.41737720e-04 1.48701529e-03 4.67442253e-03 5.19531256e-04\n",
            " 1.34441324e-02 2.06714410e-03 1.10594782e-03 9.62151177e-04\n",
            " 5.07015542e-04 2.90796610e-04 5.87670910e-03 8.05857037e-03\n",
            " 8.80771587e-04 8.43801086e-04 2.61563488e-04 1.87703686e-03\n",
            " 8.58298682e-04 1.25400648e-03 2.88805501e-04 1.19967678e-03\n",
            " 6.83604776e-04 8.08785017e-04 2.35387571e-03 3.92533935e-04\n",
            " 4.04092754e-04 5.54597172e-03 2.09342215e-04 9.38197522e-04\n",
            " 1.20931347e-02 5.04779184e-03 1.04264281e-03 3.00454071e-03\n",
            " 8.54654659e-04 5.61842038e-04 4.08353523e-04 9.08055963e-04\n",
            " 3.54484833e-03 3.01785447e-04 7.03864644e-04 7.22669207e-04\n",
            " 3.57248684e-04 4.40031773e-04 6.24944146e-03 4.59772785e-04\n",
            " 5.49096560e-03 2.49981291e-03 5.55459335e-03 1.11796419e-03\n",
            " 5.47667045e-03 1.46731102e-03 2.25705509e-03 1.73548255e-03\n",
            " 5.34966587e-03 2.49945623e-03 2.74086035e-03 1.65294317e-03\n",
            " 3.09947378e-03 1.45549831e-02 3.27999660e-04 8.08263296e-04\n",
            " 6.65530812e-04 3.13912924e-04 9.28923269e-04 3.89584302e-04\n",
            " 8.36984523e-03 2.30133528e-04 2.90700857e-03 4.48547464e-04\n",
            " 3.97175548e-04 2.90707289e-03 9.34946951e-04 8.51283920e-04\n",
            " 4.51954687e-03 5.05092818e-04 4.19419243e-03 1.82340115e-03\n",
            " 6.68762185e-04 5.99688290e-04 5.33214636e-04 6.43256154e-04\n",
            " 3.77720239e-04 3.98823370e-04 1.08831835e-03 1.20581622e-03\n",
            " 6.52000146e-04 4.91736267e-04 5.90841272e-04 8.31772264e-04\n",
            " 3.10835831e-04 5.32750855e-04 1.14557051e-03 2.66371255e-04\n",
            " 6.03284772e-03 5.67880924e-04 4.70579531e-03 2.75838698e-04\n",
            " 4.35852093e-04 4.35015870e-04 7.44613217e-04 1.56997455e-04\n",
            " 8.65378901e-04 7.86651083e-04 4.42130258e-04 1.22548552e-03\n",
            " 6.84479576e-04 4.17656325e-04 1.19411353e-04 5.68198801e-04\n",
            " 5.12866990e-04 3.45324161e-03 1.65493614e-04 5.32768985e-04\n",
            " 2.81128930e-04 4.62369152e-03 6.60640120e-04 5.66304801e-03\n",
            " 5.92058686e-04 6.13372546e-04 1.00695972e-03 5.09829337e-04\n",
            " 2.04278129e-03 1.74242162e-03 1.88798663e-03 7.17418847e-04\n",
            " 3.69602894e-04 4.27100543e-04 5.51604942e-04 2.87077394e-03\n",
            " 6.40832815e-04 4.97561404e-03 2.66919951e-04 1.21371991e-02\n",
            " 1.23330465e-03 2.23818371e-04 3.62148998e-04 4.02707408e-03\n",
            " 4.79041421e-04 2.52924324e-04 5.54856507e-04 1.30557707e-03\n",
            " 4.20243262e-04 4.63545603e-04 5.08493101e-04 1.51100727e-03\n",
            " 1.52951153e-02 1.72414860e-03 3.83801406e-04 5.78236236e-04\n",
            " 6.59207270e-04 8.93797391e-04 1.65880405e-04 2.95607326e-04\n",
            " 6.29038071e-04 7.35194464e-04 6.26931638e-04 1.83055892e-03\n",
            " 7.98692738e-04 5.12170385e-03 4.57780142e-03 6.45818299e-04\n",
            " 1.29633679e-02 7.57531610e-03 2.19494676e-03 1.25569011e-03\n",
            " 4.52692942e-03 5.88752251e-03 8.41700666e-04 1.45476829e-03\n",
            " 2.62048511e-04 8.36241134e-04 8.24314076e-04 4.23680826e-04\n",
            " 4.07936524e-04 3.67741959e-04 4.76021078e-04 6.19868859e-04\n",
            " 7.33290849e-04 1.08796310e-03 5.33388295e-04 9.74564054e-04\n",
            " 3.86685924e-04 3.29427085e-03 2.82194196e-04 1.72100376e-04\n",
            " 2.55331429e-03 6.66936083e-03 5.52674020e-04 8.98801319e-04\n",
            " 8.23479710e-04 6.54216251e-04 4.21230782e-04 5.41629861e-04\n",
            " 2.85844141e-03 5.84452001e-04 7.12702738e-04 6.40108358e-04\n",
            " 5.43630202e-04 3.91402134e-04 1.63808454e-03 7.33204680e-04\n",
            " 2.97418277e-03 6.34341292e-04 4.67195149e-04 3.91971720e-04\n",
            " 1.80459886e-04 1.31670918e-03 1.47791422e-03 4.98989682e-04\n",
            " 2.23330993e-04 3.94628260e-03 6.09164188e-04 3.84943545e-04\n",
            " 4.74902338e-04 1.16371417e-03 4.25643172e-04 8.93614653e-04\n",
            " 2.52381694e-04 2.58168769e-04 3.32761142e-04 4.01101251e-04\n",
            " 3.49818320e-04 6.40520446e-04 1.24715616e-03 5.24523503e-04\n",
            " 3.97230686e-03 4.03242992e-03 1.13040853e-03 1.19209941e-03\n",
            " 7.01765578e-04 1.00161427e-03 9.76747741e-04 9.01694322e-04\n",
            " 3.97741182e-04 2.66748691e-03 9.02343885e-04 2.73230056e-04\n",
            " 2.80998706e-03 4.96543811e-04 3.21275066e-03 1.22037637e-03\n",
            " 1.20168964e-03 6.34570322e-03 4.80312242e-04 3.64284287e-03\n",
            " 5.08804106e-04 1.04536044e-03 6.91568123e-04 8.68076798e-04\n",
            " 4.89081423e-04 7.41106393e-04 7.15353927e-04 2.28239401e-04\n",
            " 3.80499545e-03 2.59118498e-02 1.02431663e-03 4.49307625e-04\n",
            " 8.15875687e-04 8.95833582e-04 8.19753240e-04 2.48048580e-04\n",
            " 3.21895527e-03 4.83406997e-04 2.53912577e-04 5.67890584e-04\n",
            " 1.37918959e-03 5.71824815e-04 3.44311845e-04 6.70762311e-04\n",
            " 1.14394243e-03 9.37762183e-04 4.14615859e-04 1.65235849e-03\n",
            " 5.47249752e-04 1.12487564e-03 7.87427175e-04 8.54408147e-04\n",
            " 1.37416243e-03 6.10183277e-04 1.21043313e-03 4.64512727e-03\n",
            " 5.17347953e-04 2.03178972e-03 6.51834075e-04 2.59822302e-03\n",
            " 3.23754653e-03 5.52303228e-04 7.63232182e-04 1.15161009e-03\n",
            " 6.85636979e-04 6.44755956e-04 3.92396450e-03 5.12389229e-03\n",
            " 1.29179795e-03 1.04649017e-03 5.72828068e-04 1.11735622e-02\n",
            " 1.69159125e-04 2.00891536e-04 5.08722095e-04 3.30161154e-04\n",
            " 1.63150672e-03 1.45532060e-03 4.39107609e-04 1.11194106e-03\n",
            " 1.09574748e-03 1.25654346e-03 1.52171089e-03 4.13738940e-04\n",
            " 3.53590971e-03 4.43055504e-03 7.51645418e-04 6.81482844e-04\n",
            " 1.91010466e-04 1.09536191e-02 3.69604868e-04 8.78043943e-04\n",
            " 2.49664132e-04 1.38879113e-04 8.81103725e-04 5.79417420e-04\n",
            " 8.37434891e-04 5.39551165e-04 5.23355010e-04 5.14509250e-04\n",
            " 9.93420216e-04 4.65611029e-03 3.26622067e-04 5.27482610e-03\n",
            " 9.93866954e-04 4.38342888e-04 1.05926187e-04 9.03389869e-05\n",
            " 4.03121189e-04 1.16210249e-03 1.20766385e-03 7.38063296e-04\n",
            " 8.75386173e-04 9.22529375e-04 2.76605037e-04 2.52416394e-04\n",
            " 2.34903534e-04 4.20010238e-04 3.26568428e-04 3.63183473e-04\n",
            " 6.58469155e-04 1.74068344e-04 6.66780840e-04 2.54169075e-04\n",
            " 2.38710715e-04 2.02971672e-04 1.03909468e-03 4.21480833e-04\n",
            " 9.22933623e-04 3.72777923e-04 1.44728300e-03 5.43668501e-03\n",
            " 6.67122465e-03 4.85911427e-03 2.12806794e-03 5.21527039e-03\n",
            " 1.18057305e-04]\n"
          ]
        }
      ]
    },
    {
      "cell_type": "code",
      "source": [
        "print(C.shape, U.shape, R.shape)"
      ],
      "metadata": {
        "colab": {
          "base_uri": "https://localhost:8080/"
        },
        "id": "RqMobJpl6fsS",
        "outputId": "2be4c5e3-aae9-46c5-f883-14226f7f3387"
      },
      "execution_count": 308,
      "outputs": [
        {
          "output_type": "stream",
          "name": "stdout",
          "text": [
            "(569, 2) (2, 2) (2, 30)\n"
          ]
        }
      ]
    },
    {
      "cell_type": "markdown",
      "source": [
        "## ANSWER: From above output, C: (569 X 2) U: (2 X 2) R: (2 X 30) as required"
      ],
      "metadata": {
        "id": "iVfQCmmi9mtu"
      }
    }
  ]
}