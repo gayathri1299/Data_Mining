{
  "cells": [
    {
      "cell_type": "markdown",
      "metadata": {
        "id": "kPt5q27L5557"
      },
      "source": [
        "# HW 5\n",
        "## Recommendation Systems"
      ]
    },
    {
      "cell_type": "markdown",
      "metadata": {
        "id": "AP4WwTmWRjhT"
      },
      "source": [
        "## Part 1: Pyspark (40 Points)"
      ]
    },
    {
      "cell_type": "markdown",
      "metadata": {
        "id": "p0-YhEpP_Ds-"
      },
      "source": [
        "### Setup"
      ]
    },
    {
      "cell_type": "markdown",
      "metadata": {
        "id": "Zsj5WYpR9QId"
      },
      "source": [
        "Let's setup Spark on your Colab environment.  Run the cell below!"
      ]
    },
    {
      "cell_type": "code",
      "execution_count": 1,
      "metadata": {
        "colab": {
          "base_uri": "https://localhost:8080/"
        },
        "id": "k-qHai2252mI",
        "outputId": "d4ce62b5-b9bc-436b-bdb5-0893bd987965"
      },
      "outputs": [
        {
          "output_type": "stream",
          "name": "stdout",
          "text": [
            "Requirement already satisfied: pyspark in /usr/local/lib/python3.7/dist-packages (3.2.1)\n",
            "Requirement already satisfied: py4j==0.10.9.3 in /usr/local/lib/python3.7/dist-packages (from pyspark) (0.10.9.3)\n",
            "openjdk-8-jdk-headless is already the newest version (8u312-b07-0ubuntu1~18.04).\n",
            "The following packages were automatically installed and are no longer required:\n",
            "  libnvidia-common-460 nsight-compute-2020.2.0\n",
            "Use 'apt autoremove' to remove them.\n",
            "0 upgraded, 0 newly installed, 0 to remove and 42 not upgraded.\n"
          ]
        }
      ],
      "source": [
        "!pip install pyspark\n",
        "!pip install -U -q PyDrive\n",
        "!apt install openjdk-8-jdk-headless -qq\n",
        "import os\n",
        "os.environ[\"JAVA_HOME\"] = \"/usr/lib/jvm/java-8-openjdk-amd64\""
      ]
    },
    {
      "cell_type": "markdown",
      "metadata": {
        "id": "PUUjUvXe3Sjk"
      },
      "source": [
        "Now we authenticate a Google Drive client to download the filea we will be processing in our Spark job.\n",
        "\n",
        "**Make sure to follow the interactive instructions.**"
      ]
    },
    {
      "cell_type": "code",
      "execution_count": 2,
      "metadata": {
        "id": "lRElWs_x2mGh"
      },
      "outputs": [],
      "source": [
        "from pydrive.auth import GoogleAuth\n",
        "from pydrive.drive import GoogleDrive\n",
        "from google.colab import auth\n",
        "from oauth2client.client import GoogleCredentials\n",
        "\n",
        "# Authenticate and create the PyDrive client\n",
        "auth.authenticate_user()\n",
        "gauth = GoogleAuth()\n",
        "gauth.credentials = GoogleCredentials.get_application_default()\n",
        "drive = GoogleDrive(gauth)"
      ]
    },
    {
      "cell_type": "code",
      "execution_count": 3,
      "metadata": {
        "id": "QHsFTGUy2n1c"
      },
      "outputs": [],
      "source": [
        "id='1QtPy_HuIMSzhtYllT3-WeM3Sqg55wK_D'\n",
        "downloaded = drive.CreateFile({'id': id})\n",
        "downloaded.GetContentFile('MovieLens.training')\n",
        "\n",
        "id='1ePqnsQTJRRvQcBoF2EhoPU8CU1i5byHK'\n",
        "downloaded = drive.CreateFile({'id': id})\n",
        "downloaded.GetContentFile('MovieLens.test')\n",
        "\n",
        "id='1ncUBWdI5AIt3FDUJokbMqpHD2knd5ebp'\n",
        "downloaded = drive.CreateFile({'id': id})\n",
        "downloaded.GetContentFile('MovieLens.item')"
      ]
    },
    {
      "cell_type": "markdown",
      "metadata": {
        "id": "qwtlO4_m_LbQ"
      },
      "source": [
        "If you executed the cells above, you should be able to see the dataset we will use for this Colab under the \"Files\" tab on the left panel.\n",
        "\n",
        "Next, we import some of the common libraries needed for our task."
      ]
    },
    {
      "cell_type": "code",
      "execution_count": 4,
      "metadata": {
        "id": "twk-K-jilWK7"
      },
      "outputs": [],
      "source": [
        "import pandas as pd\n",
        "import numpy as np\n",
        "import matplotlib.pyplot as plt\n",
        "%matplotlib inline\n",
        "\n",
        "import pyspark\n",
        "from pyspark.sql import *\n",
        "from pyspark.sql.types import *\n",
        "from pyspark.sql.functions import *\n",
        "from pyspark import SparkContext, SparkConf"
      ]
    },
    {
      "cell_type": "markdown",
      "metadata": {
        "id": "BtrJlMBt1Ela"
      },
      "source": [
        "Let's initialize the Spark context."
      ]
    },
    {
      "cell_type": "code",
      "execution_count": 5,
      "metadata": {
        "id": "Vm3sAVeK1EDZ"
      },
      "outputs": [],
      "source": [
        "# create the session\n",
        "conf = SparkConf().set(\"spark.ui.port\", \"4050\")\n",
        "\n",
        "# create the context\n",
        "sc = pyspark.SparkContext(conf=conf)\n",
        "spark = SparkSession.builder.getOrCreate()"
      ]
    },
    {
      "cell_type": "markdown",
      "metadata": {
        "id": "YqovskkH1DmC"
      },
      "source": [
        "You can easily check the current version and get the link of the web interface. In the Spark UI, you can monitor the progress of your job and debug the performance bottlenecks (if your Colab is running with a **local runtime**)."
      ]
    },
    {
      "cell_type": "code",
      "execution_count": 6,
      "metadata": {
        "id": "DueQggJc1DDk",
        "colab": {
          "base_uri": "https://localhost:8080/",
          "height": 219
        },
        "outputId": "537f7931-99eb-47c3-b596-1d714ead2f6e"
      },
      "outputs": [
        {
          "output_type": "execute_result",
          "data": {
            "text/plain": [
              "<pyspark.sql.session.SparkSession at 0x7f9c425fd450>"
            ],
            "text/html": [
              "\n",
              "            <div>\n",
              "                <p><b>SparkSession - in-memory</b></p>\n",
              "                \n",
              "        <div>\n",
              "            <p><b>SparkContext</b></p>\n",
              "\n",
              "            <p><a href=\"http://45d67a184acf:4050\">Spark UI</a></p>\n",
              "\n",
              "            <dl>\n",
              "              <dt>Version</dt>\n",
              "                <dd><code>v3.2.1</code></dd>\n",
              "              <dt>Master</dt>\n",
              "                <dd><code>local[*]</code></dd>\n",
              "              <dt>AppName</dt>\n",
              "                <dd><code>pyspark-shell</code></dd>\n",
              "            </dl>\n",
              "        </div>\n",
              "        \n",
              "            </div>\n",
              "        "
            ]
          },
          "metadata": {},
          "execution_count": 6
        }
      ],
      "source": [
        "spark"
      ]
    },
    {
      "cell_type": "markdown",
      "metadata": {
        "id": "Iid7lXcG1CY8"
      },
      "source": [
        "If you are running this Colab on the Google hosted runtime, the cell below will create a *ngrok* tunnel which will allow you to still check the Spark UI."
      ]
    },
    {
      "cell_type": "markdown",
      "metadata": {
        "id": "kAYRX2PMm0L6"
      },
      "source": [
        "### Data Loading"
      ]
    },
    {
      "cell_type": "markdown",
      "metadata": {
        "id": "7hXdMR6wnEIM"
      },
      "source": [
        "In this Colab, we will be using the [MovieLens dataset](https://grouplens.org/datasets/movielens/), specifically the 100K dataset (which contains in total 100,000 ratings from 1000 users on ~1700 movies).\n",
        "\n",
        "We load the ratings data in a 80%-20% ```training```/```test``` split, while the ```items``` dataframe contains the movie titles associated to the item identifiers."
      ]
    },
    {
      "cell_type": "code",
      "execution_count": 82,
      "metadata": {
        "id": "5K93ABEy9Zlo"
      },
      "outputs": [],
      "source": [
        "schema_ratings = StructType([\n",
        "    StructField(\"user_id\", IntegerType(), False),\n",
        "    StructField(\"item_id\", IntegerType(), False),\n",
        "    StructField(\"rating\", IntegerType(), False),\n",
        "    StructField(\"timestamp\", IntegerType(), False)])\n",
        "\n",
        "schema_items = StructType([\n",
        "    StructField(\"item_id\", IntegerType(), False),\n",
        "    StructField(\"movie\", StringType(), False)])\n",
        "\n",
        "training = spark.read.option(\"sep\", \"\\t\").csv(\"MovieLens.training\", header=False, schema=schema_ratings)\n",
        "test = spark.read.option(\"sep\", \"\\t\").csv(\"MovieLens.test\", header=False, schema=schema_ratings)\n",
        "items = spark.read.option(\"sep\", \"|\").csv(\"MovieLens.item\", header=False, schema=schema_items)"
      ]
    },
    {
      "cell_type": "code",
      "execution_count": 8,
      "metadata": {
        "id": "MC_m1oygCoEm",
        "colab": {
          "base_uri": "https://localhost:8080/"
        },
        "outputId": "af7f72db-f14f-4ad2-d6d9-f763e4462e2c"
      },
      "outputs": [
        {
          "output_type": "stream",
          "name": "stdout",
          "text": [
            "root\n",
            " |-- user_id: integer (nullable = true)\n",
            " |-- item_id: integer (nullable = true)\n",
            " |-- rating: integer (nullable = true)\n",
            " |-- timestamp: integer (nullable = true)\n",
            "\n"
          ]
        }
      ],
      "source": [
        "training.printSchema()"
      ]
    },
    {
      "cell_type": "code",
      "execution_count": 9,
      "metadata": {
        "id": "hvyy-McJAv1W",
        "colab": {
          "base_uri": "https://localhost:8080/"
        },
        "outputId": "315a8f9f-8832-4560-a1d6-d3f98b82921f"
      },
      "outputs": [
        {
          "output_type": "stream",
          "name": "stdout",
          "text": [
            "root\n",
            " |-- user_id: integer (nullable = true)\n",
            " |-- item_id: integer (nullable = true)\n",
            " |-- rating: integer (nullable = true)\n",
            " |-- timestamp: integer (nullable = true)\n",
            "\n"
          ]
        }
      ],
      "source": [
        "test.printSchema()"
      ]
    },
    {
      "cell_type": "code",
      "execution_count": 10,
      "metadata": {
        "id": "81Vgo4ovCqtQ",
        "colab": {
          "base_uri": "https://localhost:8080/"
        },
        "outputId": "2314dc40-39bd-4ce3-f89b-c002e7cccbfb"
      },
      "outputs": [
        {
          "output_type": "stream",
          "name": "stdout",
          "text": [
            "root\n",
            " |-- item_id: integer (nullable = true)\n",
            " |-- movie: string (nullable = true)\n",
            "\n"
          ]
        }
      ],
      "source": [
        "items.printSchema()"
      ]
    },
    {
      "cell_type": "markdown",
      "metadata": {
        "id": "CRaF2A_j_nC7"
      },
      "source": [
        "### Your task"
      ]
    },
    {
      "cell_type": "markdown",
      "metadata": {
        "id": "zM9w2aUvJ7KN"
      },
      "source": [
        "Let's compute some stats!  What is the number of ratings in the training and test dataset? How many movies are in our dataset?"
      ]
    },
    {
      "cell_type": "code",
      "execution_count": 11,
      "metadata": {
        "id": "We3ps8gOQbD3"
      },
      "outputs": [],
      "source": [
        "df1 = training.toPandas()"
      ]
    },
    {
      "cell_type": "code",
      "execution_count": 12,
      "metadata": {
        "id": "dWRrEkxXN5xl",
        "colab": {
          "base_uri": "https://localhost:8080/"
        },
        "outputId": "d1c271fc-7da6-4937-e55b-0208e28036db"
      },
      "outputs": [
        {
          "output_type": "execute_result",
          "data": {
            "text/plain": [
              "[Row(user_id=1, item_id=1, rating=5, timestamp=874965758),\n",
              " Row(user_id=1, item_id=2, rating=3, timestamp=876893171),\n",
              " Row(user_id=1, item_id=3, rating=4, timestamp=878542960),\n",
              " Row(user_id=1, item_id=4, rating=3, timestamp=876893119),\n",
              " Row(user_id=1, item_id=5, rating=3, timestamp=889751712)]"
            ]
          },
          "metadata": {},
          "execution_count": 12
        }
      ],
      "source": [
        "training.take(5)"
      ]
    },
    {
      "cell_type": "code",
      "execution_count": 13,
      "metadata": {
        "id": "QOlof8CpPFbm",
        "colab": {
          "base_uri": "https://localhost:8080/"
        },
        "outputId": "1da2db49-82f8-4dc9-ca02-d98d3beefa69"
      },
      "outputs": [
        {
          "output_type": "execute_result",
          "data": {
            "text/plain": [
              "[Row(item_id=1, movie='Toy Story (1995)'),\n",
              " Row(item_id=2, movie='GoldenEye (1995)'),\n",
              " Row(item_id=3, movie='Four Rooms (1995)'),\n",
              " Row(item_id=4, movie='Get Shorty (1995)'),\n",
              " Row(item_id=5, movie='Copycat (1995)')]"
            ]
          },
          "metadata": {},
          "execution_count": 13
        }
      ],
      "source": [
        "items.take(5)"
      ]
    },
    {
      "cell_type": "code",
      "execution_count": 14,
      "metadata": {
        "id": "CfYFI7JorpJA",
        "colab": {
          "base_uri": "https://localhost:8080/"
        },
        "outputId": "03290d64-fbf7-44d4-b829-06e2afda63c2"
      },
      "outputs": [
        {
          "output_type": "stream",
          "name": "stdout",
          "text": [
            "+-------+-------+------+---------+--------------------+\n",
            "|user_id|item_id|rating|timestamp|               movie|\n",
            "+-------+-------+------+---------+--------------------+\n",
            "|      1|      1|     5|874965758|    Toy Story (1995)|\n",
            "|      1|      2|     3|876893171|    GoldenEye (1995)|\n",
            "|      1|      3|     4|878542960|   Four Rooms (1995)|\n",
            "|      1|      4|     3|876893119|   Get Shorty (1995)|\n",
            "|      1|      5|     3|889751712|      Copycat (1995)|\n",
            "|      1|      7|     4|875071561|Twelve Monkeys (1...|\n",
            "|      1|      8|     1|875072484|         Babe (1995)|\n",
            "|      1|      9|     5|878543541|Dead Man Walking ...|\n",
            "|      1|     11|     2|875072262|Seven (Se7en) (1995)|\n",
            "|      1|     13|     5|875071805|Mighty Aphrodite ...|\n",
            "|      1|     15|     5|875071608|Mr. Holland's Opu...|\n",
            "|      1|     16|     5|878543541|French Twist (Gaz...|\n",
            "|      1|     18|     4|887432020|White Balloon, Th...|\n",
            "|      1|     19|     5|875071515|Antonia's Line (1...|\n",
            "|      1|     21|     1|878542772|Muppet Treasure I...|\n",
            "|      1|     22|     4|875072404|   Braveheart (1995)|\n",
            "|      1|     25|     4|875071805|Birdcage, The (1996)|\n",
            "|      1|     26|     3|875072442|Brothers McMullen...|\n",
            "|      1|     28|     4|875072173|    Apollo 13 (1995)|\n",
            "|      1|     29|     1|878542869|Batman Forever (1...|\n",
            "+-------+-------+------+---------+--------------------+\n",
            "only showing top 20 rows\n",
            "\n"
          ]
        }
      ],
      "source": [
        "train = training.join(items, training.item_id == items.item_id).drop(items.item_id)\n",
        "train.show()"
      ]
    },
    {
      "cell_type": "code",
      "execution_count": 15,
      "metadata": {
        "id": "MezZ-8JKsLYv",
        "colab": {
          "base_uri": "https://localhost:8080/"
        },
        "outputId": "2243ff34-12f9-4b31-cbdd-20bf057ae9dd"
      },
      "outputs": [
        {
          "output_type": "stream",
          "name": "stdout",
          "text": [
            "+-------+-------+------+---------+--------------------+\n",
            "|user_id|item_id|rating|timestamp|               movie|\n",
            "+-------+-------+------+---------+--------------------+\n",
            "|      1|      6|     5|887431973|Shanghai Triad (Y...|\n",
            "|      1|     10|     3|875693118|  Richard III (1995)|\n",
            "|      1|     12|     5|878542960|Usual Suspects, T...|\n",
            "|      1|     14|     5|874965706|  Postino, Il (1994)|\n",
            "|      1|     17|     3|875073198|From Dusk Till Da...|\n",
            "|      1|     20|     4|887431883|Angels and Insect...|\n",
            "|      1|     23|     4|875072895|  Taxi Driver (1976)|\n",
            "|      1|     24|     3|875071713|Rumble in the Bro...|\n",
            "|      1|     27|     2|876892946|     Bad Boys (1995)|\n",
            "|      1|     31|     3|875072144| Crimson Tide (1995)|\n",
            "|      1|     33|     4|878542699|    Desperado (1995)|\n",
            "|      1|     36|     2|875073180|     Mad Love (1995)|\n",
            "|      1|     39|     4|875072173| Strange Days (1995)|\n",
            "|      1|     44|     5|878543541|Dolores Claiborne...|\n",
            "|      1|     47|     4|875072125|      Ed Wood (1994)|\n",
            "|      1|     49|     3|878542478|         I.Q. (1994)|\n",
            "|      1|     51|     4|878543275|Legends of the Fa...|\n",
            "|      1|     53|     3|876893206|Natural Born Kill...|\n",
            "|      1|     54|     3|878543308|     Outbreak (1995)|\n",
            "|      1|     56|     4|875072716| Pulp Fiction (1994)|\n",
            "+-------+-------+------+---------+--------------------+\n",
            "only showing top 20 rows\n",
            "\n"
          ]
        }
      ],
      "source": [
        "#test = test.join(items, test.item_id ==items.item_id).drop(items.item_id)\n",
        "#test.show()"
      ]
    },
    {
      "cell_type": "code",
      "execution_count": 47,
      "metadata": {
        "id": "gX3hxTAE7vPJ",
        "colab": {
          "base_uri": "https://localhost:8080/",
          "height": 206
        },
        "outputId": "7645d083-3e54-4a41-dd78-ed45db81544e"
      },
      "outputs": [
        {
          "output_type": "execute_result",
          "data": {
            "text/plain": [
              "   user_id  item_id  rating  timestamp              movie\n",
              "0        1        1       5  874965758   Toy Story (1995)\n",
              "1        1        2       3  876893171   GoldenEye (1995)\n",
              "2        1        3       4  878542960  Four Rooms (1995)\n",
              "3        1        4       3  876893119  Get Shorty (1995)\n",
              "4        1        5       3  889751712     Copycat (1995)"
            ],
            "text/html": [
              "\n",
              "  <div id=\"df-a78194c8-b66d-4ff8-a402-b68c51f4894b\">\n",
              "    <div class=\"colab-df-container\">\n",
              "      <div>\n",
              "<style scoped>\n",
              "    .dataframe tbody tr th:only-of-type {\n",
              "        vertical-align: middle;\n",
              "    }\n",
              "\n",
              "    .dataframe tbody tr th {\n",
              "        vertical-align: top;\n",
              "    }\n",
              "\n",
              "    .dataframe thead th {\n",
              "        text-align: right;\n",
              "    }\n",
              "</style>\n",
              "<table border=\"1\" class=\"dataframe\">\n",
              "  <thead>\n",
              "    <tr style=\"text-align: right;\">\n",
              "      <th></th>\n",
              "      <th>user_id</th>\n",
              "      <th>item_id</th>\n",
              "      <th>rating</th>\n",
              "      <th>timestamp</th>\n",
              "      <th>movie</th>\n",
              "    </tr>\n",
              "  </thead>\n",
              "  <tbody>\n",
              "    <tr>\n",
              "      <th>0</th>\n",
              "      <td>1</td>\n",
              "      <td>1</td>\n",
              "      <td>5</td>\n",
              "      <td>874965758</td>\n",
              "      <td>Toy Story (1995)</td>\n",
              "    </tr>\n",
              "    <tr>\n",
              "      <th>1</th>\n",
              "      <td>1</td>\n",
              "      <td>2</td>\n",
              "      <td>3</td>\n",
              "      <td>876893171</td>\n",
              "      <td>GoldenEye (1995)</td>\n",
              "    </tr>\n",
              "    <tr>\n",
              "      <th>2</th>\n",
              "      <td>1</td>\n",
              "      <td>3</td>\n",
              "      <td>4</td>\n",
              "      <td>878542960</td>\n",
              "      <td>Four Rooms (1995)</td>\n",
              "    </tr>\n",
              "    <tr>\n",
              "      <th>3</th>\n",
              "      <td>1</td>\n",
              "      <td>4</td>\n",
              "      <td>3</td>\n",
              "      <td>876893119</td>\n",
              "      <td>Get Shorty (1995)</td>\n",
              "    </tr>\n",
              "    <tr>\n",
              "      <th>4</th>\n",
              "      <td>1</td>\n",
              "      <td>5</td>\n",
              "      <td>3</td>\n",
              "      <td>889751712</td>\n",
              "      <td>Copycat (1995)</td>\n",
              "    </tr>\n",
              "  </tbody>\n",
              "</table>\n",
              "</div>\n",
              "      <button class=\"colab-df-convert\" onclick=\"convertToInteractive('df-a78194c8-b66d-4ff8-a402-b68c51f4894b')\"\n",
              "              title=\"Convert this dataframe to an interactive table.\"\n",
              "              style=\"display:none;\">\n",
              "        \n",
              "  <svg xmlns=\"http://www.w3.org/2000/svg\" height=\"24px\"viewBox=\"0 0 24 24\"\n",
              "       width=\"24px\">\n",
              "    <path d=\"M0 0h24v24H0V0z\" fill=\"none\"/>\n",
              "    <path d=\"M18.56 5.44l.94 2.06.94-2.06 2.06-.94-2.06-.94-.94-2.06-.94 2.06-2.06.94zm-11 1L8.5 8.5l.94-2.06 2.06-.94-2.06-.94L8.5 2.5l-.94 2.06-2.06.94zm10 10l.94 2.06.94-2.06 2.06-.94-2.06-.94-.94-2.06-.94 2.06-2.06.94z\"/><path d=\"M17.41 7.96l-1.37-1.37c-.4-.4-.92-.59-1.43-.59-.52 0-1.04.2-1.43.59L10.3 9.45l-7.72 7.72c-.78.78-.78 2.05 0 2.83L4 21.41c.39.39.9.59 1.41.59.51 0 1.02-.2 1.41-.59l7.78-7.78 2.81-2.81c.8-.78.8-2.07 0-2.86zM5.41 20L4 18.59l7.72-7.72 1.47 1.35L5.41 20z\"/>\n",
              "  </svg>\n",
              "      </button>\n",
              "      \n",
              "  <style>\n",
              "    .colab-df-container {\n",
              "      display:flex;\n",
              "      flex-wrap:wrap;\n",
              "      gap: 12px;\n",
              "    }\n",
              "\n",
              "    .colab-df-convert {\n",
              "      background-color: #E8F0FE;\n",
              "      border: none;\n",
              "      border-radius: 50%;\n",
              "      cursor: pointer;\n",
              "      display: none;\n",
              "      fill: #1967D2;\n",
              "      height: 32px;\n",
              "      padding: 0 0 0 0;\n",
              "      width: 32px;\n",
              "    }\n",
              "\n",
              "    .colab-df-convert:hover {\n",
              "      background-color: #E2EBFA;\n",
              "      box-shadow: 0px 1px 2px rgba(60, 64, 67, 0.3), 0px 1px 3px 1px rgba(60, 64, 67, 0.15);\n",
              "      fill: #174EA6;\n",
              "    }\n",
              "\n",
              "    [theme=dark] .colab-df-convert {\n",
              "      background-color: #3B4455;\n",
              "      fill: #D2E3FC;\n",
              "    }\n",
              "\n",
              "    [theme=dark] .colab-df-convert:hover {\n",
              "      background-color: #434B5C;\n",
              "      box-shadow: 0px 1px 3px 1px rgba(0, 0, 0, 0.15);\n",
              "      filter: drop-shadow(0px 1px 2px rgba(0, 0, 0, 0.3));\n",
              "      fill: #FFFFFF;\n",
              "    }\n",
              "  </style>\n",
              "\n",
              "      <script>\n",
              "        const buttonEl =\n",
              "          document.querySelector('#df-a78194c8-b66d-4ff8-a402-b68c51f4894b button.colab-df-convert');\n",
              "        buttonEl.style.display =\n",
              "          google.colab.kernel.accessAllowed ? 'block' : 'none';\n",
              "\n",
              "        async function convertToInteractive(key) {\n",
              "          const element = document.querySelector('#df-a78194c8-b66d-4ff8-a402-b68c51f4894b');\n",
              "          const dataTable =\n",
              "            await google.colab.kernel.invokeFunction('convertToInteractive',\n",
              "                                                     [key], {});\n",
              "          if (!dataTable) return;\n",
              "\n",
              "          const docLinkHtml = 'Like what you see? Visit the ' +\n",
              "            '<a target=\"_blank\" href=https://colab.research.google.com/notebooks/data_table.ipynb>data table notebook</a>'\n",
              "            + ' to learn more about interactive tables.';\n",
              "          element.innerHTML = '';\n",
              "          dataTable['output_type'] = 'display_data';\n",
              "          await google.colab.output.renderOutput(dataTable, element);\n",
              "          const docLink = document.createElement('div');\n",
              "          docLink.innerHTML = docLinkHtml;\n",
              "          element.appendChild(docLink);\n",
              "        }\n",
              "      </script>\n",
              "    </div>\n",
              "  </div>\n",
              "  "
            ]
          },
          "metadata": {},
          "execution_count": 47
        }
      ],
      "source": [
        "df_train = train.toPandas()\n",
        "df_train.head()"
      ]
    },
    {
      "cell_type": "code",
      "execution_count": 17,
      "metadata": {
        "id": "8szq2zay8AKL",
        "colab": {
          "base_uri": "https://localhost:8080/",
          "height": 206
        },
        "outputId": "35abcf41-c1e3-4b70-9919-06515f9fa8ce"
      },
      "outputs": [
        {
          "output_type": "execute_result",
          "data": {
            "text/plain": [
              "   user_id  item_id  rating  timestamp  \\\n",
              "0        1        6       5  887431973   \n",
              "1        1       10       3  875693118   \n",
              "2        1       12       5  878542960   \n",
              "3        1       14       5  874965706   \n",
              "4        1       17       3  875073198   \n",
              "\n",
              "                                               movie  \n",
              "0  Shanghai Triad (Yao a yao yao dao waipo qiao) ...  \n",
              "1                                 Richard III (1995)  \n",
              "2                         Usual Suspects, The (1995)  \n",
              "3                                 Postino, Il (1994)  \n",
              "4                         From Dusk Till Dawn (1996)  "
            ],
            "text/html": [
              "\n",
              "  <div id=\"df-8535202d-a087-4f0f-b4ce-cf5920472b19\">\n",
              "    <div class=\"colab-df-container\">\n",
              "      <div>\n",
              "<style scoped>\n",
              "    .dataframe tbody tr th:only-of-type {\n",
              "        vertical-align: middle;\n",
              "    }\n",
              "\n",
              "    .dataframe tbody tr th {\n",
              "        vertical-align: top;\n",
              "    }\n",
              "\n",
              "    .dataframe thead th {\n",
              "        text-align: right;\n",
              "    }\n",
              "</style>\n",
              "<table border=\"1\" class=\"dataframe\">\n",
              "  <thead>\n",
              "    <tr style=\"text-align: right;\">\n",
              "      <th></th>\n",
              "      <th>user_id</th>\n",
              "      <th>item_id</th>\n",
              "      <th>rating</th>\n",
              "      <th>timestamp</th>\n",
              "      <th>movie</th>\n",
              "    </tr>\n",
              "  </thead>\n",
              "  <tbody>\n",
              "    <tr>\n",
              "      <th>0</th>\n",
              "      <td>1</td>\n",
              "      <td>6</td>\n",
              "      <td>5</td>\n",
              "      <td>887431973</td>\n",
              "      <td>Shanghai Triad (Yao a yao yao dao waipo qiao) ...</td>\n",
              "    </tr>\n",
              "    <tr>\n",
              "      <th>1</th>\n",
              "      <td>1</td>\n",
              "      <td>10</td>\n",
              "      <td>3</td>\n",
              "      <td>875693118</td>\n",
              "      <td>Richard III (1995)</td>\n",
              "    </tr>\n",
              "    <tr>\n",
              "      <th>2</th>\n",
              "      <td>1</td>\n",
              "      <td>12</td>\n",
              "      <td>5</td>\n",
              "      <td>878542960</td>\n",
              "      <td>Usual Suspects, The (1995)</td>\n",
              "    </tr>\n",
              "    <tr>\n",
              "      <th>3</th>\n",
              "      <td>1</td>\n",
              "      <td>14</td>\n",
              "      <td>5</td>\n",
              "      <td>874965706</td>\n",
              "      <td>Postino, Il (1994)</td>\n",
              "    </tr>\n",
              "    <tr>\n",
              "      <th>4</th>\n",
              "      <td>1</td>\n",
              "      <td>17</td>\n",
              "      <td>3</td>\n",
              "      <td>875073198</td>\n",
              "      <td>From Dusk Till Dawn (1996)</td>\n",
              "    </tr>\n",
              "  </tbody>\n",
              "</table>\n",
              "</div>\n",
              "      <button class=\"colab-df-convert\" onclick=\"convertToInteractive('df-8535202d-a087-4f0f-b4ce-cf5920472b19')\"\n",
              "              title=\"Convert this dataframe to an interactive table.\"\n",
              "              style=\"display:none;\">\n",
              "        \n",
              "  <svg xmlns=\"http://www.w3.org/2000/svg\" height=\"24px\"viewBox=\"0 0 24 24\"\n",
              "       width=\"24px\">\n",
              "    <path d=\"M0 0h24v24H0V0z\" fill=\"none\"/>\n",
              "    <path d=\"M18.56 5.44l.94 2.06.94-2.06 2.06-.94-2.06-.94-.94-2.06-.94 2.06-2.06.94zm-11 1L8.5 8.5l.94-2.06 2.06-.94-2.06-.94L8.5 2.5l-.94 2.06-2.06.94zm10 10l.94 2.06.94-2.06 2.06-.94-2.06-.94-.94-2.06-.94 2.06-2.06.94z\"/><path d=\"M17.41 7.96l-1.37-1.37c-.4-.4-.92-.59-1.43-.59-.52 0-1.04.2-1.43.59L10.3 9.45l-7.72 7.72c-.78.78-.78 2.05 0 2.83L4 21.41c.39.39.9.59 1.41.59.51 0 1.02-.2 1.41-.59l7.78-7.78 2.81-2.81c.8-.78.8-2.07 0-2.86zM5.41 20L4 18.59l7.72-7.72 1.47 1.35L5.41 20z\"/>\n",
              "  </svg>\n",
              "      </button>\n",
              "      \n",
              "  <style>\n",
              "    .colab-df-container {\n",
              "      display:flex;\n",
              "      flex-wrap:wrap;\n",
              "      gap: 12px;\n",
              "    }\n",
              "\n",
              "    .colab-df-convert {\n",
              "      background-color: #E8F0FE;\n",
              "      border: none;\n",
              "      border-radius: 50%;\n",
              "      cursor: pointer;\n",
              "      display: none;\n",
              "      fill: #1967D2;\n",
              "      height: 32px;\n",
              "      padding: 0 0 0 0;\n",
              "      width: 32px;\n",
              "    }\n",
              "\n",
              "    .colab-df-convert:hover {\n",
              "      background-color: #E2EBFA;\n",
              "      box-shadow: 0px 1px 2px rgba(60, 64, 67, 0.3), 0px 1px 3px 1px rgba(60, 64, 67, 0.15);\n",
              "      fill: #174EA6;\n",
              "    }\n",
              "\n",
              "    [theme=dark] .colab-df-convert {\n",
              "      background-color: #3B4455;\n",
              "      fill: #D2E3FC;\n",
              "    }\n",
              "\n",
              "    [theme=dark] .colab-df-convert:hover {\n",
              "      background-color: #434B5C;\n",
              "      box-shadow: 0px 1px 3px 1px rgba(0, 0, 0, 0.15);\n",
              "      filter: drop-shadow(0px 1px 2px rgba(0, 0, 0, 0.3));\n",
              "      fill: #FFFFFF;\n",
              "    }\n",
              "  </style>\n",
              "\n",
              "      <script>\n",
              "        const buttonEl =\n",
              "          document.querySelector('#df-8535202d-a087-4f0f-b4ce-cf5920472b19 button.colab-df-convert');\n",
              "        buttonEl.style.display =\n",
              "          google.colab.kernel.accessAllowed ? 'block' : 'none';\n",
              "\n",
              "        async function convertToInteractive(key) {\n",
              "          const element = document.querySelector('#df-8535202d-a087-4f0f-b4ce-cf5920472b19');\n",
              "          const dataTable =\n",
              "            await google.colab.kernel.invokeFunction('convertToInteractive',\n",
              "                                                     [key], {});\n",
              "          if (!dataTable) return;\n",
              "\n",
              "          const docLinkHtml = 'Like what you see? Visit the ' +\n",
              "            '<a target=\"_blank\" href=https://colab.research.google.com/notebooks/data_table.ipynb>data table notebook</a>'\n",
              "            + ' to learn more about interactive tables.';\n",
              "          element.innerHTML = '';\n",
              "          dataTable['output_type'] = 'display_data';\n",
              "          await google.colab.output.renderOutput(dataTable, element);\n",
              "          const docLink = document.createElement('div');\n",
              "          docLink.innerHTML = docLinkHtml;\n",
              "          element.appendChild(docLink);\n",
              "        }\n",
              "      </script>\n",
              "    </div>\n",
              "  </div>\n",
              "  "
            ]
          },
          "metadata": {},
          "execution_count": 17
        }
      ],
      "source": [
        "df_test = test.toPandas()\n",
        "df_test.head()"
      ]
    },
    {
      "cell_type": "code",
      "execution_count": 18,
      "metadata": {
        "id": "_HxzdPBuOMDq",
        "colab": {
          "base_uri": "https://localhost:8080/"
        },
        "outputId": "801619d4-4785-4441-eb31-daa07eec924d"
      },
      "outputs": [
        {
          "output_type": "execute_result",
          "data": {
            "text/plain": [
              "80000"
            ]
          },
          "metadata": {},
          "execution_count": 18
        }
      ],
      "source": [
        "training.count() # gives the number of rows, ie, number of ratings"
      ]
    },
    {
      "cell_type": "code",
      "execution_count": 19,
      "metadata": {
        "id": "fXbZwMaIO27Z",
        "colab": {
          "base_uri": "https://localhost:8080/"
        },
        "outputId": "0b3f13f5-ab58-4e7c-e944-3a9a5c569923"
      },
      "outputs": [
        {
          "output_type": "execute_result",
          "data": {
            "text/plain": [
              "20000"
            ]
          },
          "metadata": {},
          "execution_count": 19
        }
      ],
      "source": [
        "test.count()"
      ]
    },
    {
      "cell_type": "code",
      "execution_count": 20,
      "metadata": {
        "id": "vG6ltNeQPI8R",
        "colab": {
          "base_uri": "https://localhost:8080/"
        },
        "outputId": "034f7328-cf2f-451a-f19b-93acfb36f4c8"
      },
      "outputs": [
        {
          "output_type": "execute_result",
          "data": {
            "text/plain": [
              "1682"
            ]
          },
          "metadata": {},
          "execution_count": 20
        }
      ],
      "source": [
        "items.count()"
      ]
    },
    {
      "cell_type": "markdown",
      "metadata": {
        "id": "GAw2wHUdOf9A"
      },
      "source": [
        "# ANSWERS:\n",
        "## 80000 ratings in training set\n",
        "## 20000 ratings in test set\n",
        "## 1682 movies in the dataset"
      ]
    },
    {
      "cell_type": "markdown",
      "metadata": {
        "id": "wpsaYOqRxar2"
      },
      "source": [
        "Using the training set, train a model with the Alternating Least Squares method available in the Spark MLlib: [https://spark.apache.org/docs/latest/ml-collaborative-filtering.html](https://spark.apache.org/docs/latest/ml-collaborative-filtering.html)\n",
        "\n",
        "maxIter = 5, regParam=0.01"
      ]
    },
    {
      "cell_type": "code",
      "execution_count": 88,
      "metadata": {
        "id": "RsO6prE_XTbj"
      },
      "outputs": [],
      "source": [
        "from pyspark.ml.recommendation import ALS\n",
        "from pyspark.ml.evaluation import RegressionEvaluator"
      ]
    },
    {
      "cell_type": "code",
      "execution_count": 89,
      "metadata": {
        "id": "Oitav_xhQD9w"
      },
      "outputs": [],
      "source": [
        "#als = ALS(userCol='user_id', itemCol='item_id', ratingCol='rating', maxIter=5, regParam=0.01, coldStartStrategy='drop')\n",
        "als = ALS(userCol=\"user_id\", itemCol=\"item_id\", ratingCol=\"rating\", maxIter=5, regParam=0.01,nonnegative = True, implicitPrefs = False, coldStartStrategy=\"drop\")"
      ]
    },
    {
      "cell_type": "code",
      "execution_count": 90,
      "metadata": {
        "id": "oHssUbiblla6"
      },
      "outputs": [],
      "source": [
        "model = als.fit(training)"
      ]
    },
    {
      "cell_type": "markdown",
      "metadata": {
        "id": "TtR1xRvonxiO"
      },
      "source": [
        "Now compute the RMSE on the test dataset.\n"
      ]
    },
    {
      "cell_type": "code",
      "execution_count": 91,
      "metadata": {
        "id": "7cctASSrQ3eU"
      },
      "outputs": [],
      "source": [
        "predictions = model.transform(test)"
      ]
    },
    {
      "cell_type": "code",
      "execution_count": 84,
      "metadata": {
        "id": "S10_Pbx82fa5",
        "colab": {
          "base_uri": "https://localhost:8080/",
          "height": 206
        },
        "outputId": "f990fb35-d14a-43b1-83a7-12a6160c8c83"
      },
      "outputs": [
        {
          "output_type": "execute_result",
          "data": {
            "text/plain": [
              "   user_id  item_id  rating  timestamp  prediction\n",
              "0      251      148       2  886272547    3.327871\n",
              "1      255      833       4  883216902    1.324811\n",
              "2      321      496       4  879438607    3.945987\n",
              "3      108      471       2  879880076    4.139856\n",
              "4      101      471       3  877136535    3.286622"
            ],
            "text/html": [
              "\n",
              "  <div id=\"df-f95a5a70-cc09-44a4-87bd-b42873aa9f8a\">\n",
              "    <div class=\"colab-df-container\">\n",
              "      <div>\n",
              "<style scoped>\n",
              "    .dataframe tbody tr th:only-of-type {\n",
              "        vertical-align: middle;\n",
              "    }\n",
              "\n",
              "    .dataframe tbody tr th {\n",
              "        vertical-align: top;\n",
              "    }\n",
              "\n",
              "    .dataframe thead th {\n",
              "        text-align: right;\n",
              "    }\n",
              "</style>\n",
              "<table border=\"1\" class=\"dataframe\">\n",
              "  <thead>\n",
              "    <tr style=\"text-align: right;\">\n",
              "      <th></th>\n",
              "      <th>user_id</th>\n",
              "      <th>item_id</th>\n",
              "      <th>rating</th>\n",
              "      <th>timestamp</th>\n",
              "      <th>prediction</th>\n",
              "    </tr>\n",
              "  </thead>\n",
              "  <tbody>\n",
              "    <tr>\n",
              "      <th>0</th>\n",
              "      <td>251</td>\n",
              "      <td>148</td>\n",
              "      <td>2</td>\n",
              "      <td>886272547</td>\n",
              "      <td>3.327871</td>\n",
              "    </tr>\n",
              "    <tr>\n",
              "      <th>1</th>\n",
              "      <td>255</td>\n",
              "      <td>833</td>\n",
              "      <td>4</td>\n",
              "      <td>883216902</td>\n",
              "      <td>1.324811</td>\n",
              "    </tr>\n",
              "    <tr>\n",
              "      <th>2</th>\n",
              "      <td>321</td>\n",
              "      <td>496</td>\n",
              "      <td>4</td>\n",
              "      <td>879438607</td>\n",
              "      <td>3.945987</td>\n",
              "    </tr>\n",
              "    <tr>\n",
              "      <th>3</th>\n",
              "      <td>108</td>\n",
              "      <td>471</td>\n",
              "      <td>2</td>\n",
              "      <td>879880076</td>\n",
              "      <td>4.139856</td>\n",
              "    </tr>\n",
              "    <tr>\n",
              "      <th>4</th>\n",
              "      <td>101</td>\n",
              "      <td>471</td>\n",
              "      <td>3</td>\n",
              "      <td>877136535</td>\n",
              "      <td>3.286622</td>\n",
              "    </tr>\n",
              "  </tbody>\n",
              "</table>\n",
              "</div>\n",
              "      <button class=\"colab-df-convert\" onclick=\"convertToInteractive('df-f95a5a70-cc09-44a4-87bd-b42873aa9f8a')\"\n",
              "              title=\"Convert this dataframe to an interactive table.\"\n",
              "              style=\"display:none;\">\n",
              "        \n",
              "  <svg xmlns=\"http://www.w3.org/2000/svg\" height=\"24px\"viewBox=\"0 0 24 24\"\n",
              "       width=\"24px\">\n",
              "    <path d=\"M0 0h24v24H0V0z\" fill=\"none\"/>\n",
              "    <path d=\"M18.56 5.44l.94 2.06.94-2.06 2.06-.94-2.06-.94-.94-2.06-.94 2.06-2.06.94zm-11 1L8.5 8.5l.94-2.06 2.06-.94-2.06-.94L8.5 2.5l-.94 2.06-2.06.94zm10 10l.94 2.06.94-2.06 2.06-.94-2.06-.94-.94-2.06-.94 2.06-2.06.94z\"/><path d=\"M17.41 7.96l-1.37-1.37c-.4-.4-.92-.59-1.43-.59-.52 0-1.04.2-1.43.59L10.3 9.45l-7.72 7.72c-.78.78-.78 2.05 0 2.83L4 21.41c.39.39.9.59 1.41.59.51 0 1.02-.2 1.41-.59l7.78-7.78 2.81-2.81c.8-.78.8-2.07 0-2.86zM5.41 20L4 18.59l7.72-7.72 1.47 1.35L5.41 20z\"/>\n",
              "  </svg>\n",
              "      </button>\n",
              "      \n",
              "  <style>\n",
              "    .colab-df-container {\n",
              "      display:flex;\n",
              "      flex-wrap:wrap;\n",
              "      gap: 12px;\n",
              "    }\n",
              "\n",
              "    .colab-df-convert {\n",
              "      background-color: #E8F0FE;\n",
              "      border: none;\n",
              "      border-radius: 50%;\n",
              "      cursor: pointer;\n",
              "      display: none;\n",
              "      fill: #1967D2;\n",
              "      height: 32px;\n",
              "      padding: 0 0 0 0;\n",
              "      width: 32px;\n",
              "    }\n",
              "\n",
              "    .colab-df-convert:hover {\n",
              "      background-color: #E2EBFA;\n",
              "      box-shadow: 0px 1px 2px rgba(60, 64, 67, 0.3), 0px 1px 3px 1px rgba(60, 64, 67, 0.15);\n",
              "      fill: #174EA6;\n",
              "    }\n",
              "\n",
              "    [theme=dark] .colab-df-convert {\n",
              "      background-color: #3B4455;\n",
              "      fill: #D2E3FC;\n",
              "    }\n",
              "\n",
              "    [theme=dark] .colab-df-convert:hover {\n",
              "      background-color: #434B5C;\n",
              "      box-shadow: 0px 1px 3px 1px rgba(0, 0, 0, 0.15);\n",
              "      filter: drop-shadow(0px 1px 2px rgba(0, 0, 0, 0.3));\n",
              "      fill: #FFFFFF;\n",
              "    }\n",
              "  </style>\n",
              "\n",
              "      <script>\n",
              "        const buttonEl =\n",
              "          document.querySelector('#df-f95a5a70-cc09-44a4-87bd-b42873aa9f8a button.colab-df-convert');\n",
              "        buttonEl.style.display =\n",
              "          google.colab.kernel.accessAllowed ? 'block' : 'none';\n",
              "\n",
              "        async function convertToInteractive(key) {\n",
              "          const element = document.querySelector('#df-f95a5a70-cc09-44a4-87bd-b42873aa9f8a');\n",
              "          const dataTable =\n",
              "            await google.colab.kernel.invokeFunction('convertToInteractive',\n",
              "                                                     [key], {});\n",
              "          if (!dataTable) return;\n",
              "\n",
              "          const docLinkHtml = 'Like what you see? Visit the ' +\n",
              "            '<a target=\"_blank\" href=https://colab.research.google.com/notebooks/data_table.ipynb>data table notebook</a>'\n",
              "            + ' to learn more about interactive tables.';\n",
              "          element.innerHTML = '';\n",
              "          dataTable['output_type'] = 'display_data';\n",
              "          await google.colab.output.renderOutput(dataTable, element);\n",
              "          const docLink = document.createElement('div');\n",
              "          docLink.innerHTML = docLinkHtml;\n",
              "          element.appendChild(docLink);\n",
              "        }\n",
              "      </script>\n",
              "    </div>\n",
              "  </div>\n",
              "  "
            ]
          },
          "metadata": {},
          "execution_count": 84
        }
      ],
      "source": [
        "df = predictions.toPandas()\n",
        "df.head()"
      ]
    },
    {
      "cell_type": "code",
      "execution_count": 92,
      "metadata": {
        "id": "ToiJY_UOlmo9",
        "colab": {
          "base_uri": "https://localhost:8080/"
        },
        "outputId": "0766b385-c30b-4ffb-c8ff-52c2f4ddbf64"
      },
      "outputs": [
        {
          "output_type": "stream",
          "name": "stdout",
          "text": [
            "RMSE on test set:  1.0465243868722673\n"
          ]
        }
      ],
      "source": [
        "evaluator = RegressionEvaluator(metricName=\"rmse\", labelCol=\"rating\", predictionCol=\"prediction\")\n",
        "rmse = evaluator.evaluate(predictions)\n",
        "print(\"RMSE on test set: \", rmse)"
      ]
    },
    {
      "cell_type": "markdown",
      "metadata": {
        "id": "lBvSaWGEMHXI"
      },
      "source": [
        "At this point, you can use the trained model to produce the top-K recommendations for each user.  Recommend the top three movies for each user. "
      ]
    },
    {
      "cell_type": "code",
      "execution_count": 93,
      "metadata": {
        "id": "h2LOG5RvQ9p6",
        "colab": {
          "base_uri": "https://localhost:8080/"
        },
        "outputId": "cc030749-5029-4429-c149-caf75733ecc2"
      },
      "outputs": [
        {
          "output_type": "stream",
          "name": "stderr",
          "text": [
            "/usr/local/lib/python3.7/dist-packages/pyspark/sql/context.py:127: FutureWarning: Deprecated in 3.0.0. Use SparkSession.builder.getOrCreate() instead.\n",
            "  FutureWarning\n"
          ]
        },
        {
          "output_type": "stream",
          "name": "stdout",
          "text": [
            "+-------+---------------------------------------------------------+\n",
            "|user_id|recommendations                                          |\n",
            "+-------+---------------------------------------------------------+\n",
            "|1      |[{793, 6.3364606}, {960, 5.9672217}, {947, 5.9344974}]   |\n",
            "|3      |[{1006, 7.234457}, {308, 7.156104}, {502, 7.016623}]     |\n",
            "|5      |[{1368, 11.807686}, {1077, 10.737466}, {698, 9.860186}]  |\n",
            "|6      |[{115, 5.6290255}, {361, 5.4949675}, {1524, 5.343671}]   |\n",
            "|9      |[{1395, 11.222579}, {1131, 10.867725}, {1216, 10.820805}]|\n",
            "|12     |[{1664, 7.465287}, {915, 7.380612}, {1006, 7.343769}]    |\n",
            "|13     |[{1368, 7.1528616}, {6, 5.408635}, {580, 5.38941}]       |\n",
            "|15     |[{1193, 6.3574047}, {1194, 6.0866623}, {1120, 5.931073}] |\n",
            "|16     |[{1368, 7.6255207}, {1427, 7.252457}, {1005, 7.114436}]  |\n",
            "|17     |[{1512, 7.437726}, {1077, 6.7629375}, {1368, 6.532758}]  |\n",
            "|19     |[{1512, 10.260715}, {1172, 9.616025}, {962, 9.18335}]    |\n",
            "|20     |[{1006, 13.493648}, {1664, 12.704903}, {1425, 12.443003}]|\n",
            "|22     |[{793, 7.738196}, {947, 7.2448106}, {958, 7.054985}]     |\n",
            "|26     |[{1466, 5.203348}, {114, 5.119943}, {611, 4.8795614}]    |\n",
            "|27     |[{1664, 12.817997}, {1059, 11.05341}, {1512, 10.923617}] |\n",
            "|28     |[{1368, 8.813871}, {1643, 7.006817}, {1137, 6.992185}]   |\n",
            "|31     |[{1077, 7.2273226}, {1643, 7.185595}, {1368, 6.667596}]  |\n",
            "|34     |[{1598, 9.864595}, {1021, 9.168963}, {320, 8.651946}]    |\n",
            "|35     |[{838, 9.368491}, {793, 8.411346}, {1206, 8.369862}]     |\n",
            "|37     |[{253, 9.401627}, {906, 9.339733}, {1206, 8.969337}]     |\n",
            "+-------+---------------------------------------------------------+\n",
            "only showing top 20 rows\n",
            "\n"
          ]
        }
      ],
      "source": [
        "top3 = model.recommendForAllUsers(3)\n",
        "top3.show(truncate=False)\n"
      ]
    },
    {
      "cell_type": "markdown",
      "metadata": {
        "id": "pAOmc6JHaDmj"
      },
      "source": [
        "Print the name of the movies recommended for user 444  "
      ]
    },
    {
      "cell_type": "code",
      "execution_count": 94,
      "metadata": {
        "id": "R2c_n9MnROY2",
        "colab": {
          "base_uri": "https://localhost:8080/"
        },
        "outputId": "8428d918-bc24-4083-d98e-693f9c166c87"
      },
      "outputs": [
        {
          "output_type": "stream",
          "name": "stdout",
          "text": [
            "+-------+------------------------------------------------------+\n",
            "|user_id|recommendations                                       |\n",
            "+-------+------------------------------------------------------+\n",
            "|444    |[{1466, 10.026432}, {1099, 9.459652}, {1021, 9.32674}]|\n",
            "+-------+------------------------------------------------------+\n",
            "\n"
          ]
        }
      ],
      "source": [
        "r444 = top3.filter(top3.user_id == '444')\n",
        "r444.show(truncate=False)"
      ]
    },
    {
      "cell_type": "code",
      "source": [
        "r444 = r444.withColumn(\"rec_exp\", explode(\"recommendations\")).select('user_id', col(\"rec_exp.item_id\"), col(\"rec_exp.rating\"))\n",
        "r444.show()"
      ],
      "metadata": {
        "colab": {
          "base_uri": "https://localhost:8080/"
        },
        "id": "lxdELctYag0M",
        "outputId": "c8c12b61-47e3-4a34-e479-e736489f7ce2"
      },
      "execution_count": 95,
      "outputs": [
        {
          "output_type": "stream",
          "name": "stdout",
          "text": [
            "+-------+-------+---------+\n",
            "|user_id|item_id|   rating|\n",
            "+-------+-------+---------+\n",
            "|    444|   1466|10.026432|\n",
            "|    444|   1099| 9.459652|\n",
            "|    444|   1021|  9.32674|\n",
            "+-------+-------+---------+\n",
            "\n"
          ]
        }
      ]
    },
    {
      "cell_type": "code",
      "source": [
        "r444.join(items, on='item_id').show(truncate=False)"
      ],
      "metadata": {
        "id": "AmkAaAIWPHqI",
        "colab": {
          "base_uri": "https://localhost:8080/"
        },
        "outputId": "2ea8e0ea-cc8e-4120-8869-89826a892667"
      },
      "execution_count": 96,
      "outputs": [
        {
          "output_type": "stream",
          "name": "stdout",
          "text": [
            "+-------+-------+---------+-----------------------------------------+\n",
            "|item_id|user_id|rating   |movie                                    |\n",
            "+-------+-------+---------+-----------------------------------------+\n",
            "|1466   |444    |10.026432|Margaret's Museum (1995)                 |\n",
            "|1099   |444    |9.459652 |Red Firecracker, Green Firecracker (1994)|\n",
            "|1021   |444    |9.32674  |8 1/2 (1963)                             |\n",
            "+-------+-------+---------+-----------------------------------------+\n",
            "\n"
          ]
        }
      ]
    },
    {
      "cell_type": "markdown",
      "metadata": {
        "id": "_YRZQ0Txt1pR"
      },
      "source": [
        "## Part 2: Collaborative Filtering (60 Points)"
      ]
    },
    {
      "cell_type": "markdown",
      "metadata": {
        "id": "vtZlbp2s9mgi"
      },
      "source": [
        "scikit-surprise(http://surpriselib.com/) is a good library for multiple recommender systems algorithms. <br>You may start playing around with wrapper functions from the link provided.\n",
        "\n",
        "Hint: Transform pyspark dataframe into pandas dataframe"
      ]
    },
    {
      "cell_type": "code",
      "execution_count": 34,
      "metadata": {
        "id": "JgBu6Sp78OVi",
        "colab": {
          "base_uri": "https://localhost:8080/"
        },
        "outputId": "4da8b28c-d4c9-4335-ac17-28482bd2fa73"
      },
      "outputs": [
        {
          "output_type": "stream",
          "name": "stdout",
          "text": [
            "Collecting scikit-surprise\n",
            "  Downloading scikit-surprise-1.1.1.tar.gz (11.8 MB)\n",
            "\u001b[K     |████████████████████████████████| 11.8 MB 15.1 MB/s \n",
            "\u001b[?25hRequirement already satisfied: joblib>=0.11 in /usr/local/lib/python3.7/dist-packages (from scikit-surprise) (1.1.0)\n",
            "Requirement already satisfied: numpy>=1.11.2 in /usr/local/lib/python3.7/dist-packages (from scikit-surprise) (1.21.6)\n",
            "Requirement already satisfied: scipy>=1.0.0 in /usr/local/lib/python3.7/dist-packages (from scikit-surprise) (1.4.1)\n",
            "Requirement already satisfied: six>=1.10.0 in /usr/local/lib/python3.7/dist-packages (from scikit-surprise) (1.15.0)\n",
            "Building wheels for collected packages: scikit-surprise\n",
            "  Building wheel for scikit-surprise (setup.py) ... \u001b[?25l\u001b[?25hdone\n",
            "  Created wheel for scikit-surprise: filename=scikit_surprise-1.1.1-cp37-cp37m-linux_x86_64.whl size=1630128 sha256=e48b3f5b5e8de2c01ef4587605e4279003806aa869ce6a63b302f770198f906c\n",
            "  Stored in directory: /root/.cache/pip/wheels/76/44/74/b498c42be47b2406bd27994e16c5188e337c657025ab400c1c\n",
            "Successfully built scikit-surprise\n",
            "Installing collected packages: scikit-surprise\n",
            "Successfully installed scikit-surprise-1.1.1\n"
          ]
        }
      ],
      "source": [
        "# install surprise to build recommender in python\n",
        "!pip install scikit-surprise"
      ]
    },
    {
      "cell_type": "markdown",
      "metadata": {
        "id": "m1WKy3DJst2s"
      },
      "source": [
        "### Task. Memory-based Filtering \n",
        "\n",
        "Your task is to train a predictor using the `training` set provided above, and make predictions on the `test` set."
      ]
    },
    {
      "cell_type": "markdown",
      "metadata": {
        "id": "xwDY23pa-fBz"
      },
      "source": [
        "A. User-based recommendation\n",
        "\n",
        "To make a prediction on user $u$'s rating on item $i$ ($R_{u, i}$), User-based recommendation finds the top-N user neighbors who have already completed rating on $i$, taking their average (unweighted or weighted by their similarity with $u$) as the prediction $\\hat{R}_{u,i}$.\n"
      ]
    },
    {
      "cell_type": "markdown",
      "metadata": {
        "id": "rZlEfdJlY3b_"
      },
      "source": [
        "(1). Use default parameters, report *RMSE* on training & test set, respectively."
      ]
    },
    {
      "cell_type": "code",
      "execution_count": 35,
      "metadata": {
        "id": "TXbygNacOZmW"
      },
      "outputs": [],
      "source": [
        "from surprise import KNNWithMeans\n",
        "from surprise import Reader\n",
        "from surprise import Dataset\n",
        "from surprise.model_selection import cross_validate"
      ]
    },
    {
      "cell_type": "code",
      "execution_count": 97,
      "metadata": {
        "id": "WTXPz4Adl2E9"
      },
      "outputs": [],
      "source": [
        "algo = KNNWithMeans()"
      ]
    },
    {
      "cell_type": "code",
      "execution_count": 98,
      "metadata": {
        "id": "efzVg973TY1L"
      },
      "outputs": [],
      "source": [
        "reader = Reader(rating_scale=(1, 5))\n",
        "data1 = Dataset.load_from_df(df_train[['user_id', 'item_id', 'rating']], reader)"
      ]
    },
    {
      "cell_type": "code",
      "source": [
        "train_df = data1.build_full_trainset()\n",
        "algo.fit(train_df)\n",
        "test_df = train_df.build_testset()\n",
        "predictions = algo.test(test_df)"
      ],
      "metadata": {
        "id": "21Ko-6V3Py85",
        "colab": {
          "base_uri": "https://localhost:8080/"
        },
        "outputId": "4434cdaf-7540-463b-a3a6-b3c801e0572e"
      },
      "execution_count": 99,
      "outputs": [
        {
          "output_type": "stream",
          "name": "stdout",
          "text": [
            "Computing the msd similarity matrix...\n",
            "Done computing similarity matrix.\n"
          ]
        }
      ]
    },
    {
      "cell_type": "code",
      "execution_count": 100,
      "metadata": {
        "id": "z3HrM2PQ7QhN",
        "colab": {
          "base_uri": "https://localhost:8080/"
        },
        "outputId": "0db89307-20dd-40cd-99ad-9d4a5c0c9208"
      },
      "outputs": [
        {
          "output_type": "stream",
          "name": "stdout",
          "text": [
            "Computing the msd similarity matrix...\n",
            "Done computing similarity matrix.\n",
            "Computing the msd similarity matrix...\n",
            "Done computing similarity matrix.\n"
          ]
        },
        {
          "output_type": "execute_result",
          "data": {
            "text/plain": [
              "{'fit_time': (0.14841032028198242, 0.15533161163330078),\n",
              " 'test_rmse': array([0.97783689, 0.97009482]),\n",
              " 'test_time': (4.491857051849365, 4.269320487976074)}"
            ]
          },
          "metadata": {},
          "execution_count": 100
        }
      ],
      "source": [
        "cross_validate(algo, data1, measures=['RMSE'], cv=2)"
      ]
    },
    {
      "cell_type": "markdown",
      "metadata": {
        "id": "cSbkzmEDbfAi"
      },
      "source": [
        "Calculate RMSE of the actual ratings $R$ and the predicted ratings $\\hat{R}$ in the training set."
      ]
    },
    {
      "cell_type": "code",
      "source": [
        "from surprise import accuracy\n",
        "accuracy.rmse(predictions)"
      ],
      "metadata": {
        "id": "ix7tE0a3QabS",
        "colab": {
          "base_uri": "https://localhost:8080/"
        },
        "outputId": "6017cf5f-f1f2-42c9-911d-15a82e7db7bc"
      },
      "execution_count": 101,
      "outputs": [
        {
          "output_type": "stream",
          "name": "stdout",
          "text": [
            "RMSE: 0.7569\n"
          ]
        },
        {
          "output_type": "execute_result",
          "data": {
            "text/plain": [
              "0.7569412498224135"
            ]
          },
          "metadata": {},
          "execution_count": 101
        }
      ]
    },
    {
      "cell_type": "markdown",
      "metadata": {
        "id": "1fXgs11lWCcF"
      },
      "source": [
        "Now let's make predictions on the test set"
      ]
    },
    {
      "cell_type": "code",
      "execution_count": 102,
      "metadata": {
        "id": "rZW0akxZ_TcZ"
      },
      "outputs": [],
      "source": [
        "data2 = Dataset.load_from_df(df_test[['user_id', 'item_id', 'rating']], reader)"
      ]
    },
    {
      "cell_type": "code",
      "source": [
        "train_df2 = data2.build_full_trainset()\n",
        "test_df2 = train_df2.build_testset()\n",
        "prediction_2 = algo.test(test_df2)"
      ],
      "metadata": {
        "id": "U_da0kh_QyF7"
      },
      "execution_count": 103,
      "outputs": []
    },
    {
      "cell_type": "code",
      "execution_count": 104,
      "metadata": {
        "id": "RCiVtg9U_Z-U",
        "colab": {
          "base_uri": "https://localhost:8080/"
        },
        "outputId": "9f840a39-5677-42e8-e14d-3a2634610040"
      },
      "outputs": [
        {
          "output_type": "stream",
          "name": "stdout",
          "text": [
            "Computing the msd similarity matrix...\n",
            "Done computing similarity matrix.\n",
            "Computing the msd similarity matrix...\n",
            "Done computing similarity matrix.\n"
          ]
        },
        {
          "output_type": "execute_result",
          "data": {
            "text/plain": [
              "{'fit_time': (0.034761905670166016, 0.020264148712158203),\n",
              " 'test_rmse': array([1.05928159, 1.05840889]),\n",
              " 'test_time': (0.2831432819366455, 0.33246707916259766)}"
            ]
          },
          "metadata": {},
          "execution_count": 104
        }
      ],
      "source": [
        "cross_validate(algo, data2, measures=['RMSE'], cv=2)"
      ]
    },
    {
      "cell_type": "markdown",
      "metadata": {
        "id": "D9qPJXotW1Jj"
      },
      "source": [
        "Calculate RMSE of the actual ratings $R$ and the predicted ratings $\\hat{R}$ from the trained user-based recommendation."
      ]
    },
    {
      "cell_type": "code",
      "source": [
        "accuracy.rmse(prediction_2)"
      ],
      "metadata": {
        "id": "8DQG7hwOQ97s",
        "colab": {
          "base_uri": "https://localhost:8080/"
        },
        "outputId": "f06b4c81-3680-4067-9bcc-a5887fa6c8dc"
      },
      "execution_count": 105,
      "outputs": [
        {
          "output_type": "stream",
          "name": "stdout",
          "text": [
            "RMSE: 0.9980\n"
          ]
        },
        {
          "output_type": "execute_result",
          "data": {
            "text/plain": [
              "0.9980359334665843"
            ]
          },
          "metadata": {},
          "execution_count": 105
        }
      ]
    },
    {
      "cell_type": "code",
      "source": [
        "knn_algo = KNNWithMeans(k=10)\n",
        "\n",
        "training_data = Dataset.load_from_df(df_train[['user_id', 'item_id', 'rating']], reader)\n",
        "testing_data = Dataset.load_from_df(df_test[['user_id', 'item_id', 'rating']],reader)"
      ],
      "metadata": {
        "id": "mkztg-UoSN0E"
      },
      "execution_count": 106,
      "outputs": []
    },
    {
      "cell_type": "code",
      "source": [
        "trained = training_data.build_full_trainset()\n",
        "knn_algo.fit(trained)\n",
        "tested = trained.build_testset()\n",
        "predictions = knn_algo.test(tested)\n",
        "accuracy.rmse(predictions)"
      ],
      "metadata": {
        "colab": {
          "base_uri": "https://localhost:8080/"
        },
        "id": "vgEMi2D0d647",
        "outputId": "b03d4fcc-058c-4f39-a2ce-3f66a90bd072"
      },
      "execution_count": 107,
      "outputs": [
        {
          "output_type": "stream",
          "name": "stdout",
          "text": [
            "Computing the msd similarity matrix...\n",
            "Done computing similarity matrix.\n",
            "RMSE: 0.6106\n"
          ]
        },
        {
          "output_type": "execute_result",
          "data": {
            "text/plain": [
              "0.6106378518062169"
            ]
          },
          "metadata": {},
          "execution_count": 107
        }
      ]
    },
    {
      "cell_type": "code",
      "source": [
        "train_2 = testing_data.build_full_trainset()\n",
        "test_2 = train_2.build_testset()\n",
        "predictions2 = knn_algo.test(test_2)\n",
        "accuracy.rmse(predictions2)"
      ],
      "metadata": {
        "colab": {
          "base_uri": "https://localhost:8080/"
        },
        "id": "NVj7r_bvd1Wc",
        "outputId": "a9a00874-d487-43bd-d2de-5cd31bfdb810"
      },
      "execution_count": 108,
      "outputs": [
        {
          "output_type": "stream",
          "name": "stdout",
          "text": [
            "RMSE: 0.9892\n"
          ]
        },
        {
          "output_type": "execute_result",
          "data": {
            "text/plain": [
              "0.9891847088270564"
            ]
          },
          "metadata": {},
          "execution_count": 108
        }
      ]
    },
    {
      "cell_type": "markdown",
      "metadata": {
        "id": "Twu6IIH6chLo"
      },
      "source": [
        "(2). Now display the top 10 movies for user 10, ranked by the predicted rating scores in the test set."
      ]
    },
    {
      "cell_type": "code",
      "source": [
        "df_item = items.toPandas()\n"
      ],
      "metadata": {
        "id": "Dq-L78LbeusC"
      },
      "execution_count": 58,
      "outputs": []
    },
    {
      "cell_type": "code",
      "source": [
        "predict = pd.DataFrame(predictions2)\n",
        "\n",
        "allmovies = predict[predict.uid == 10].sort_values(by='est',ascending=False)[:10][\"iid\"]\n",
        "\n",
        "print(\"The top 10 movies for user 10: \")\n",
        "[df_item[df_item.item_id == x]['movie'].values[0] for x in allmovies]\n"
      ],
      "metadata": {
        "colab": {
          "base_uri": "https://localhost:8080/"
        },
        "id": "FZAfHnJbfcm_",
        "outputId": "54ddd932-9c21-4d4c-fd53-913457c81428"
      },
      "execution_count": 109,
      "outputs": [
        {
          "output_type": "stream",
          "name": "stdout",
          "text": [
            "The top 10 movies for user 10: \n"
          ]
        },
        {
          "output_type": "execute_result",
          "data": {
            "text/plain": [
              "['Dr. Strangelove or: How I Learned to Stop Worrying and Love the Bomb (1963)',\n",
              " 'Bridge on the River Kwai, The (1957)',\n",
              " 'Deer Hunter, The (1978)',\n",
              " 'Casablanca (1942)',\n",
              " 'Secrets & Lies (1996)',\n",
              " 'Aliens (1986)',\n",
              " 'Reservoir Dogs (1992)',\n",
              " 'Laura (1944)',\n",
              " 'Bringing Up Baby (1938)',\n",
              " '2001: A Space Odyssey (1968)']"
            ]
          },
          "metadata": {},
          "execution_count": 109
        }
      ]
    },
    {
      "cell_type": "markdown",
      "metadata": {
        "id": "pgcPKKcCjxxh"
      },
      "source": [
        "(3). From what we learned in class, the number of nearest neighbors ($k$) considered for rating estimation $\\hat{R}$ is an important hyperparameter affecting the prediction results. Repeat the training procedure above with different nearest neighbor selections (2-10), find the optimal $k$ in your experiment and report the corresponding *RMSE* in the test set."
      ]
    },
    {
      "cell_type": "code",
      "source": [
        "trained = training_data.build_full_trainset()\n",
        "tested = testing_data.build_full_trainset().build_testset()\n",
        "param_grid = {'k':list(range(2,11))}"
      ],
      "metadata": {
        "id": "mqaQ6AaBSlWM"
      },
      "execution_count": 63,
      "outputs": []
    },
    {
      "cell_type": "markdown",
      "metadata": {
        "id": "M8VS4LnKn6zv"
      },
      "source": [
        "Note that we can write a for-loop to iterate throuogh different choices, but scikit-surprise provides us with a simplified cross-validation interface (`surprise.model_selection.GridSearchCV`) to fine-tune such hyperparameter.\n",
        "\n",
        "\n",
        "Report the optimal k value. \n",
        "\n",
        "Report the RMSE given the optimal k value"
      ]
    },
    {
      "cell_type": "code",
      "execution_count": 65,
      "metadata": {
        "id": "5QMlaQ_dpRbn"
      },
      "outputs": [],
      "source": [
        "from surprise.model_selection import GridSearchCV\n",
        "from surprise import KNNWithMeans"
      ]
    },
    {
      "cell_type": "code",
      "source": [
        "kopt = GridSearchCV(KNNWithMeans, param_grid, measures=['rmse'])\n",
        "kopt.fit(training_data)"
      ],
      "metadata": {
        "id": "dbC4IGjySpfu",
        "colab": {
          "base_uri": "https://localhost:8080/"
        },
        "outputId": "55c3fd6a-d77b-4a55-d4de-440c54df4794"
      },
      "execution_count": 66,
      "outputs": [
        {
          "output_type": "stream",
          "name": "stdout",
          "text": [
            "Computing the msd similarity matrix...\n",
            "Done computing similarity matrix.\n",
            "Computing the msd similarity matrix...\n",
            "Done computing similarity matrix.\n",
            "Computing the msd similarity matrix...\n",
            "Done computing similarity matrix.\n",
            "Computing the msd similarity matrix...\n",
            "Done computing similarity matrix.\n",
            "Computing the msd similarity matrix...\n",
            "Done computing similarity matrix.\n",
            "Computing the msd similarity matrix...\n",
            "Done computing similarity matrix.\n",
            "Computing the msd similarity matrix...\n",
            "Done computing similarity matrix.\n",
            "Computing the msd similarity matrix...\n",
            "Done computing similarity matrix.\n",
            "Computing the msd similarity matrix...\n",
            "Done computing similarity matrix.\n",
            "Computing the msd similarity matrix...\n",
            "Done computing similarity matrix.\n",
            "Computing the msd similarity matrix...\n",
            "Done computing similarity matrix.\n",
            "Computing the msd similarity matrix...\n",
            "Done computing similarity matrix.\n",
            "Computing the msd similarity matrix...\n",
            "Done computing similarity matrix.\n",
            "Computing the msd similarity matrix...\n",
            "Done computing similarity matrix.\n",
            "Computing the msd similarity matrix...\n",
            "Done computing similarity matrix.\n",
            "Computing the msd similarity matrix...\n",
            "Done computing similarity matrix.\n",
            "Computing the msd similarity matrix...\n",
            "Done computing similarity matrix.\n",
            "Computing the msd similarity matrix...\n",
            "Done computing similarity matrix.\n",
            "Computing the msd similarity matrix...\n",
            "Done computing similarity matrix.\n",
            "Computing the msd similarity matrix...\n",
            "Done computing similarity matrix.\n",
            "Computing the msd similarity matrix...\n",
            "Done computing similarity matrix.\n",
            "Computing the msd similarity matrix...\n",
            "Done computing similarity matrix.\n",
            "Computing the msd similarity matrix...\n",
            "Done computing similarity matrix.\n",
            "Computing the msd similarity matrix...\n",
            "Done computing similarity matrix.\n",
            "Computing the msd similarity matrix...\n",
            "Done computing similarity matrix.\n",
            "Computing the msd similarity matrix...\n",
            "Done computing similarity matrix.\n",
            "Computing the msd similarity matrix...\n",
            "Done computing similarity matrix.\n",
            "Computing the msd similarity matrix...\n",
            "Done computing similarity matrix.\n",
            "Computing the msd similarity matrix...\n",
            "Done computing similarity matrix.\n",
            "Computing the msd similarity matrix...\n",
            "Done computing similarity matrix.\n",
            "Computing the msd similarity matrix...\n",
            "Done computing similarity matrix.\n",
            "Computing the msd similarity matrix...\n",
            "Done computing similarity matrix.\n",
            "Computing the msd similarity matrix...\n",
            "Done computing similarity matrix.\n",
            "Computing the msd similarity matrix...\n",
            "Done computing similarity matrix.\n",
            "Computing the msd similarity matrix...\n",
            "Done computing similarity matrix.\n",
            "Computing the msd similarity matrix...\n",
            "Done computing similarity matrix.\n",
            "Computing the msd similarity matrix...\n",
            "Done computing similarity matrix.\n",
            "Computing the msd similarity matrix...\n",
            "Done computing similarity matrix.\n",
            "Computing the msd similarity matrix...\n",
            "Done computing similarity matrix.\n",
            "Computing the msd similarity matrix...\n",
            "Done computing similarity matrix.\n",
            "Computing the msd similarity matrix...\n",
            "Done computing similarity matrix.\n",
            "Computing the msd similarity matrix...\n",
            "Done computing similarity matrix.\n",
            "Computing the msd similarity matrix...\n",
            "Done computing similarity matrix.\n",
            "Computing the msd similarity matrix...\n",
            "Done computing similarity matrix.\n",
            "Computing the msd similarity matrix...\n",
            "Done computing similarity matrix.\n"
          ]
        }
      ]
    },
    {
      "cell_type": "code",
      "source": [
        "print(\"RMSE score of optimal k value: \", kopt.best_score)"
      ],
      "metadata": {
        "id": "ai7YfAO9y9aR",
        "colab": {
          "base_uri": "https://localhost:8080/"
        },
        "outputId": "f144b070-2bb0-4344-fc60-094169ba77b4"
      },
      "execution_count": 111,
      "outputs": [
        {
          "output_type": "stream",
          "name": "stdout",
          "text": [
            "RMSE score of optimal k value:  {'rmse': 1.03832050710602}\n"
          ]
        }
      ]
    },
    {
      "cell_type": "code",
      "source": [
        "print(\"optimal k value: \", kopt.best_params)"
      ],
      "metadata": {
        "id": "0qtN5pVHy_bZ",
        "colab": {
          "base_uri": "https://localhost:8080/"
        },
        "outputId": "cb882c21-6c07-4914-8a1d-da2f06bbb808"
      },
      "execution_count": 68,
      "outputs": [
        {
          "output_type": "stream",
          "name": "stdout",
          "text": [
            "optimal k value:  {'rmse': {'k': 10}}\n"
          ]
        }
      ]
    },
    {
      "cell_type": "code",
      "source": [
        "kopt.fit(testing_data)"
      ],
      "metadata": {
        "id": "MlU7rO5041e8",
        "colab": {
          "base_uri": "https://localhost:8080/"
        },
        "outputId": "91b40580-75e7-4895-b102-f7b193b5b505"
      },
      "execution_count": 69,
      "outputs": [
        {
          "output_type": "stream",
          "name": "stdout",
          "text": [
            "Computing the msd similarity matrix...\n",
            "Done computing similarity matrix.\n",
            "Computing the msd similarity matrix...\n",
            "Done computing similarity matrix.\n",
            "Computing the msd similarity matrix...\n",
            "Done computing similarity matrix.\n",
            "Computing the msd similarity matrix...\n",
            "Done computing similarity matrix.\n",
            "Computing the msd similarity matrix...\n",
            "Done computing similarity matrix.\n",
            "Computing the msd similarity matrix...\n",
            "Done computing similarity matrix.\n",
            "Computing the msd similarity matrix...\n",
            "Done computing similarity matrix.\n",
            "Computing the msd similarity matrix...\n",
            "Done computing similarity matrix.\n",
            "Computing the msd similarity matrix...\n",
            "Done computing similarity matrix.\n",
            "Computing the msd similarity matrix...\n",
            "Done computing similarity matrix.\n",
            "Computing the msd similarity matrix...\n",
            "Done computing similarity matrix.\n",
            "Computing the msd similarity matrix...\n",
            "Done computing similarity matrix.\n",
            "Computing the msd similarity matrix...\n",
            "Done computing similarity matrix.\n",
            "Computing the msd similarity matrix...\n",
            "Done computing similarity matrix.\n",
            "Computing the msd similarity matrix...\n",
            "Done computing similarity matrix.\n",
            "Computing the msd similarity matrix...\n",
            "Done computing similarity matrix.\n",
            "Computing the msd similarity matrix...\n",
            "Done computing similarity matrix.\n",
            "Computing the msd similarity matrix...\n",
            "Done computing similarity matrix.\n",
            "Computing the msd similarity matrix...\n",
            "Done computing similarity matrix.\n",
            "Computing the msd similarity matrix...\n",
            "Done computing similarity matrix.\n",
            "Computing the msd similarity matrix...\n",
            "Done computing similarity matrix.\n",
            "Computing the msd similarity matrix...\n",
            "Done computing similarity matrix.\n",
            "Computing the msd similarity matrix...\n",
            "Done computing similarity matrix.\n",
            "Computing the msd similarity matrix...\n",
            "Done computing similarity matrix.\n",
            "Computing the msd similarity matrix...\n",
            "Done computing similarity matrix.\n",
            "Computing the msd similarity matrix...\n",
            "Done computing similarity matrix.\n",
            "Computing the msd similarity matrix...\n",
            "Done computing similarity matrix.\n",
            "Computing the msd similarity matrix...\n",
            "Done computing similarity matrix.\n",
            "Computing the msd similarity matrix...\n",
            "Done computing similarity matrix.\n",
            "Computing the msd similarity matrix...\n",
            "Done computing similarity matrix.\n",
            "Computing the msd similarity matrix...\n",
            "Done computing similarity matrix.\n",
            "Computing the msd similarity matrix...\n",
            "Done computing similarity matrix.\n",
            "Computing the msd similarity matrix...\n",
            "Done computing similarity matrix.\n",
            "Computing the msd similarity matrix...\n",
            "Done computing similarity matrix.\n",
            "Computing the msd similarity matrix...\n",
            "Done computing similarity matrix.\n",
            "Computing the msd similarity matrix...\n",
            "Done computing similarity matrix.\n",
            "Computing the msd similarity matrix...\n",
            "Done computing similarity matrix.\n",
            "Computing the msd similarity matrix...\n",
            "Done computing similarity matrix.\n",
            "Computing the msd similarity matrix...\n",
            "Done computing similarity matrix.\n",
            "Computing the msd similarity matrix...\n",
            "Done computing similarity matrix.\n",
            "Computing the msd similarity matrix...\n",
            "Done computing similarity matrix.\n",
            "Computing the msd similarity matrix...\n",
            "Done computing similarity matrix.\n",
            "Computing the msd similarity matrix...\n",
            "Done computing similarity matrix.\n",
            "Computing the msd similarity matrix...\n",
            "Done computing similarity matrix.\n",
            "Computing the msd similarity matrix...\n",
            "Done computing similarity matrix.\n"
          ]
        }
      ]
    },
    {
      "cell_type": "code",
      "source": [
        "print(\"RMSE score of optimal k value: \", kopt.best_score)\n",
        "print(\"optimal k value: \", kopt.best_params)"
      ],
      "metadata": {
        "colab": {
          "base_uri": "https://localhost:8080/"
        },
        "id": "gnS4OUZXgzs2",
        "outputId": "a5bea62a-f278-4b3c-83f7-2d0cebb00e29"
      },
      "execution_count": 112,
      "outputs": [
        {
          "output_type": "stream",
          "name": "stdout",
          "text": [
            "RMSE score of optimal k value:  {'rmse': 1.03832050710602}\n",
            "optimal k value:  {'rmse': {'k': 10}}\n"
          ]
        }
      ]
    },
    {
      "cell_type": "markdown",
      "metadata": {
        "id": "x6kjzFPPqwso"
      },
      "source": [
        "B. **item-based recommendation**\n",
        "\n",
        "To make a prediction on user $u$'s rating on item $i$ ($R_{u, i}$), Item-based recommendation finds the top-N item neighbors (the user has rated) to $i$, taking their average (unweighted or weighted by their similarity with $i$) as the prediction $\\hat{R}_{u,i}$.\n",
        "\n"
      ]
    },
    {
      "cell_type": "markdown",
      "metadata": {
        "id": "yn2cUNQ_swP0"
      },
      "source": [
        "(1). Similar to the previous question, implement the item-based recommender systems trained on the  `training` set, report the *RMSE* on both the `training` and `test` set. (Note: apply the optimal $k$ obtained in last question.)"
      ]
    },
    {
      "cell_type": "code",
      "execution_count": 114,
      "metadata": {
        "id": "bnPbOaHGmTTl",
        "colab": {
          "base_uri": "https://localhost:8080/"
        },
        "outputId": "9b7c5bab-1aff-493d-89be-3e041b618b6e"
      },
      "outputs": [
        {
          "output_type": "stream",
          "name": "stdout",
          "text": [
            "Computing the msd similarity matrix...\n",
            "Done computing similarity matrix.\n",
            "RMSE: 0.5690\n",
            "Accuracy for the train set is:  0.5690496491977741\n"
          ]
        }
      ],
      "source": [
        "sim_options = {'user_based': False}\n",
        "\n",
        "# optimal value of K = 10 \n",
        "\n",
        "i_knn = KNNWithMeans(k=10,sim_options=sim_options)\n",
        "trained = training_data.build_full_trainset()\n",
        "tested = trained.build_testset()\n",
        "i_knn.fit(trained)\n",
        "predictions = i_knn.test(tested)\n",
        "rmse1 = accuracy.rmse(predictions)\n",
        "print(\"Accuracy for the train set is: \", rmse1)\n"
      ]
    },
    {
      "cell_type": "code",
      "source": [
        "trained2 = testing_data.build_full_trainset()\n",
        "tested2 = trained2.build_testset()\n",
        "prediction_2 = i_knn.test(tested2)\n",
        "rmse2 = accuracy.rmse(prediction_2)\n",
        "print(\"The accuracy for the test set is: \",rmse2)"
      ],
      "metadata": {
        "colab": {
          "base_uri": "https://localhost:8080/"
        },
        "id": "0j61ed7lhD5A",
        "outputId": "e58bc6ab-0b7e-42fe-dfe5-f3f8a0af2702"
      },
      "execution_count": 116,
      "outputs": [
        {
          "output_type": "stream",
          "name": "stdout",
          "text": [
            "RMSE: 0.9783\n",
            "The accuracy for the test set is:  0.9783018562689109\n"
          ]
        }
      ]
    },
    {
      "cell_type": "markdown",
      "metadata": {
        "id": "7fjjupuctTLi"
      },
      "source": [
        "(2). Similar to previous question, display the top 10 movies for user 10, ranked by the predicted rating scores in the test set."
      ]
    },
    {
      "cell_type": "code",
      "source": [
        "predict = pd.DataFrame(predictions2)"
      ],
      "metadata": {
        "id": "RIQVEv4XhqEV"
      },
      "execution_count": 117,
      "outputs": []
    },
    {
      "cell_type": "code",
      "source": [
        "predict.head()"
      ],
      "metadata": {
        "colab": {
          "base_uri": "https://localhost:8080/",
          "height": 206
        },
        "id": "NwfseRBw-Zsp",
        "outputId": "f4b0c15b-31a1-408c-fc84-5b15128f50cd"
      },
      "execution_count": 81,
      "outputs": [
        {
          "output_type": "execute_result",
          "data": {
            "text/plain": [
              "   uid  iid  r_ui       est                                    details\n",
              "0    1    6   5.0  3.139162  {'actual_k': 10, 'was_impossible': False}\n",
              "1    1   10   3.0  3.776408  {'actual_k': 10, 'was_impossible': False}\n",
              "2    1   12   5.0  4.439765  {'actual_k': 10, 'was_impossible': False}\n",
              "3    1   14   5.0  3.927944  {'actual_k': 10, 'was_impossible': False}\n",
              "4    1   17   3.0  3.259577  {'actual_k': 10, 'was_impossible': False}"
            ],
            "text/html": [
              "\n",
              "  <div id=\"df-d9101d5c-e651-41a4-89ca-9c92676bc135\">\n",
              "    <div class=\"colab-df-container\">\n",
              "      <div>\n",
              "<style scoped>\n",
              "    .dataframe tbody tr th:only-of-type {\n",
              "        vertical-align: middle;\n",
              "    }\n",
              "\n",
              "    .dataframe tbody tr th {\n",
              "        vertical-align: top;\n",
              "    }\n",
              "\n",
              "    .dataframe thead th {\n",
              "        text-align: right;\n",
              "    }\n",
              "</style>\n",
              "<table border=\"1\" class=\"dataframe\">\n",
              "  <thead>\n",
              "    <tr style=\"text-align: right;\">\n",
              "      <th></th>\n",
              "      <th>uid</th>\n",
              "      <th>iid</th>\n",
              "      <th>r_ui</th>\n",
              "      <th>est</th>\n",
              "      <th>details</th>\n",
              "    </tr>\n",
              "  </thead>\n",
              "  <tbody>\n",
              "    <tr>\n",
              "      <th>0</th>\n",
              "      <td>1</td>\n",
              "      <td>6</td>\n",
              "      <td>5.0</td>\n",
              "      <td>3.139162</td>\n",
              "      <td>{'actual_k': 10, 'was_impossible': False}</td>\n",
              "    </tr>\n",
              "    <tr>\n",
              "      <th>1</th>\n",
              "      <td>1</td>\n",
              "      <td>10</td>\n",
              "      <td>3.0</td>\n",
              "      <td>3.776408</td>\n",
              "      <td>{'actual_k': 10, 'was_impossible': False}</td>\n",
              "    </tr>\n",
              "    <tr>\n",
              "      <th>2</th>\n",
              "      <td>1</td>\n",
              "      <td>12</td>\n",
              "      <td>5.0</td>\n",
              "      <td>4.439765</td>\n",
              "      <td>{'actual_k': 10, 'was_impossible': False}</td>\n",
              "    </tr>\n",
              "    <tr>\n",
              "      <th>3</th>\n",
              "      <td>1</td>\n",
              "      <td>14</td>\n",
              "      <td>5.0</td>\n",
              "      <td>3.927944</td>\n",
              "      <td>{'actual_k': 10, 'was_impossible': False}</td>\n",
              "    </tr>\n",
              "    <tr>\n",
              "      <th>4</th>\n",
              "      <td>1</td>\n",
              "      <td>17</td>\n",
              "      <td>3.0</td>\n",
              "      <td>3.259577</td>\n",
              "      <td>{'actual_k': 10, 'was_impossible': False}</td>\n",
              "    </tr>\n",
              "  </tbody>\n",
              "</table>\n",
              "</div>\n",
              "      <button class=\"colab-df-convert\" onclick=\"convertToInteractive('df-d9101d5c-e651-41a4-89ca-9c92676bc135')\"\n",
              "              title=\"Convert this dataframe to an interactive table.\"\n",
              "              style=\"display:none;\">\n",
              "        \n",
              "  <svg xmlns=\"http://www.w3.org/2000/svg\" height=\"24px\"viewBox=\"0 0 24 24\"\n",
              "       width=\"24px\">\n",
              "    <path d=\"M0 0h24v24H0V0z\" fill=\"none\"/>\n",
              "    <path d=\"M18.56 5.44l.94 2.06.94-2.06 2.06-.94-2.06-.94-.94-2.06-.94 2.06-2.06.94zm-11 1L8.5 8.5l.94-2.06 2.06-.94-2.06-.94L8.5 2.5l-.94 2.06-2.06.94zm10 10l.94 2.06.94-2.06 2.06-.94-2.06-.94-.94-2.06-.94 2.06-2.06.94z\"/><path d=\"M17.41 7.96l-1.37-1.37c-.4-.4-.92-.59-1.43-.59-.52 0-1.04.2-1.43.59L10.3 9.45l-7.72 7.72c-.78.78-.78 2.05 0 2.83L4 21.41c.39.39.9.59 1.41.59.51 0 1.02-.2 1.41-.59l7.78-7.78 2.81-2.81c.8-.78.8-2.07 0-2.86zM5.41 20L4 18.59l7.72-7.72 1.47 1.35L5.41 20z\"/>\n",
              "  </svg>\n",
              "      </button>\n",
              "      \n",
              "  <style>\n",
              "    .colab-df-container {\n",
              "      display:flex;\n",
              "      flex-wrap:wrap;\n",
              "      gap: 12px;\n",
              "    }\n",
              "\n",
              "    .colab-df-convert {\n",
              "      background-color: #E8F0FE;\n",
              "      border: none;\n",
              "      border-radius: 50%;\n",
              "      cursor: pointer;\n",
              "      display: none;\n",
              "      fill: #1967D2;\n",
              "      height: 32px;\n",
              "      padding: 0 0 0 0;\n",
              "      width: 32px;\n",
              "    }\n",
              "\n",
              "    .colab-df-convert:hover {\n",
              "      background-color: #E2EBFA;\n",
              "      box-shadow: 0px 1px 2px rgba(60, 64, 67, 0.3), 0px 1px 3px 1px rgba(60, 64, 67, 0.15);\n",
              "      fill: #174EA6;\n",
              "    }\n",
              "\n",
              "    [theme=dark] .colab-df-convert {\n",
              "      background-color: #3B4455;\n",
              "      fill: #D2E3FC;\n",
              "    }\n",
              "\n",
              "    [theme=dark] .colab-df-convert:hover {\n",
              "      background-color: #434B5C;\n",
              "      box-shadow: 0px 1px 3px 1px rgba(0, 0, 0, 0.15);\n",
              "      filter: drop-shadow(0px 1px 2px rgba(0, 0, 0, 0.3));\n",
              "      fill: #FFFFFF;\n",
              "    }\n",
              "  </style>\n",
              "\n",
              "      <script>\n",
              "        const buttonEl =\n",
              "          document.querySelector('#df-d9101d5c-e651-41a4-89ca-9c92676bc135 button.colab-df-convert');\n",
              "        buttonEl.style.display =\n",
              "          google.colab.kernel.accessAllowed ? 'block' : 'none';\n",
              "\n",
              "        async function convertToInteractive(key) {\n",
              "          const element = document.querySelector('#df-d9101d5c-e651-41a4-89ca-9c92676bc135');\n",
              "          const dataTable =\n",
              "            await google.colab.kernel.invokeFunction('convertToInteractive',\n",
              "                                                     [key], {});\n",
              "          if (!dataTable) return;\n",
              "\n",
              "          const docLinkHtml = 'Like what you see? Visit the ' +\n",
              "            '<a target=\"_blank\" href=https://colab.research.google.com/notebooks/data_table.ipynb>data table notebook</a>'\n",
              "            + ' to learn more about interactive tables.';\n",
              "          element.innerHTML = '';\n",
              "          dataTable['output_type'] = 'display_data';\n",
              "          await google.colab.output.renderOutput(dataTable, element);\n",
              "          const docLink = document.createElement('div');\n",
              "          docLink.innerHTML = docLinkHtml;\n",
              "          element.appendChild(docLink);\n",
              "        }\n",
              "      </script>\n",
              "    </div>\n",
              "  </div>\n",
              "  "
            ]
          },
          "metadata": {},
          "execution_count": 81
        }
      ]
    },
    {
      "cell_type": "code",
      "source": [
        "allmovies = predict[predict.uid == 10].sort_values(by='est',ascending=False)[:10][\"iid\"]\n",
        "\n",
        "print(\"The top 10 movies for user 10: \")\n",
        "[df_item[df_item.item_id == x]['movie'].values[0] for x in allmovies]\n"
      ],
      "metadata": {
        "colab": {
          "base_uri": "https://localhost:8080/"
        },
        "id": "9AAm5UCaDyvm",
        "outputId": "1cff4e00-d830-46ec-cf5e-3507cd185ad9"
      },
      "execution_count": 118,
      "outputs": [
        {
          "output_type": "stream",
          "name": "stdout",
          "text": [
            "The top 10 movies for user 10: \n"
          ]
        },
        {
          "output_type": "execute_result",
          "data": {
            "text/plain": [
              "['Dr. Strangelove or: How I Learned to Stop Worrying and Love the Bomb (1963)',\n",
              " 'Bridge on the River Kwai, The (1957)',\n",
              " 'Deer Hunter, The (1978)',\n",
              " 'Casablanca (1942)',\n",
              " 'Secrets & Lies (1996)',\n",
              " 'Aliens (1986)',\n",
              " 'Reservoir Dogs (1992)',\n",
              " 'Laura (1944)',\n",
              " 'Bringing Up Baby (1938)',\n",
              " '2001: A Space Odyssey (1968)']"
            ]
          },
          "metadata": {},
          "execution_count": 118
        }
      ]
    },
    {
      "cell_type": "markdown",
      "metadata": {
        "id": "-jQAsg8Ftczx"
      },
      "source": [
        "(3). Given the same number of nearest neighbor ($k$), compare and discuss the user-based and item-based recommendation, which performs better on the test set?"
      ]
    },
    {
      "cell_type": "markdown",
      "source": [
        "User-based recommendation RMSE values:\n",
        "\n",
        "**Training set - 0.610**\n",
        "**Test set - 0.989**\n",
        "\n",
        "Item-based recommendation RMSE values:\n",
        "\n",
        "**Train set - 0.569**\n",
        "**Test set - 0.978**"
      ],
      "metadata": {
        "id": "OEp9CZ6rzfiz"
      }
    },
    {
      "cell_type": "markdown",
      "source": [
        "From above RMSE values, it is evident that user based recommendations perform better on train sets for the given parameters.\n",
        "\n",
        "The model with optimal value of K = 10 performs better on the datasets. When K value was taken as default (k = 40), the accuracy of the model was lesser comparatively.\n",
        "\n"
      ],
      "metadata": {
        "id": "j3z5VxPnzlP3"
      }
    },
    {
      "cell_type": "markdown",
      "source": [
        "Item-based recommenders perform better than user-based recommenders on the test set and in general. This is better because user based recommender is higly based on the user and may give inconsistent results."
      ],
      "metadata": {
        "id": "LwXSddhy4vWz"
      }
    }
  ],
  "metadata": {
    "colab": {
      "collapsed_sections": [],
      "name": "gp2254_hw5.ipynb",
      "provenance": []
    },
    "kernelspec": {
      "display_name": "Python 3",
      "name": "python3"
    }
  },
  "nbformat": 4,
  "nbformat_minor": 0
}